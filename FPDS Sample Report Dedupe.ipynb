{
 "cells": [
  {
   "cell_type": "code",
   "execution_count": 4,
   "metadata": {},
   "outputs": [
    {
     "name": "stdout",
     "output_type": "stream",
     "text": [
      "Collecting pandas-dedupe\n",
      "  Downloading https://files.pythonhosted.org/packages/ec/93/7aac16e094c2b17c7a99d2f033a713ee062c3c4cbb2b2ea006683e28c4da/pandas_dedupe-1.3.1-py3-none-any.whl\n",
      "Requirement already satisfied: dedupe in ./opt/anaconda3/lib/python3.7/site-packages (from pandas-dedupe) (2.0.6)\n",
      "Collecting unidecode (from pandas-dedupe)\n",
      "\u001b[?25l  Downloading https://files.pythonhosted.org/packages/d0/42/d9edfed04228bacea2d824904cae367ee9efd05e6cce7ceaaedd0b0ad964/Unidecode-1.1.1-py2.py3-none-any.whl (238kB)\n",
      "\u001b[K     |████████████████████████████████| 245kB 4.3MB/s eta 0:00:01\n",
      "\u001b[?25hRequirement already satisfied: pandas in ./opt/anaconda3/lib/python3.7/site-packages (from pandas-dedupe) (0.25.1)\n",
      "Requirement already satisfied: simplecosine>=1.2 in ./opt/anaconda3/lib/python3.7/site-packages (from dedupe->pandas-dedupe) (1.2)\n",
      "Requirement already satisfied: dedupe-hcluster in ./opt/anaconda3/lib/python3.7/site-packages (from dedupe->pandas-dedupe) (0.3.8)\n",
      "Requirement already satisfied: numpy>=1.13 in ./opt/anaconda3/lib/python3.7/site-packages (from dedupe->pandas-dedupe) (1.17.2)\n",
      "Requirement already satisfied: affinegap>=1.3 in ./opt/anaconda3/lib/python3.7/site-packages (from dedupe->pandas-dedupe) (1.11)\n",
      "Requirement already satisfied: haversine>=0.4.1 in ./opt/anaconda3/lib/python3.7/site-packages (from dedupe->pandas-dedupe) (2.3.0)\n",
      "Requirement already satisfied: zope.index in ./opt/anaconda3/lib/python3.7/site-packages (from dedupe->pandas-dedupe) (5.0.0)\n",
      "Requirement already satisfied: typing-extensions in ./opt/anaconda3/lib/python3.7/site-packages (from dedupe->pandas-dedupe) (3.7.4.3)\n",
      "Requirement already satisfied: categorical-distance>=1.9 in ./opt/anaconda3/lib/python3.7/site-packages (from dedupe->pandas-dedupe) (1.9)\n",
      "Requirement already satisfied: dedupe-variable-datetime in ./opt/anaconda3/lib/python3.7/site-packages (from dedupe->pandas-dedupe) (0.1.5)\n",
      "Requirement already satisfied: BTrees>=4.1.4 in ./opt/anaconda3/lib/python3.7/site-packages (from dedupe->pandas-dedupe) (4.7.2)\n",
      "Requirement already satisfied: highered>=0.2.0 in ./opt/anaconda3/lib/python3.7/site-packages (from dedupe->pandas-dedupe) (0.2.1)\n",
      "Requirement already satisfied: Levenshtein-search in ./opt/anaconda3/lib/python3.7/site-packages (from dedupe->pandas-dedupe) (1.4.5)\n",
      "Requirement already satisfied: doublemetaphone in ./opt/anaconda3/lib/python3.7/site-packages (from dedupe->pandas-dedupe) (0.1)\n",
      "Requirement already satisfied: fastcluster in ./opt/anaconda3/lib/python3.7/site-packages (from dedupe->pandas-dedupe) (1.1.26)\n",
      "Requirement already satisfied: rlr>=2.4.3 in ./opt/anaconda3/lib/python3.7/site-packages (from dedupe->pandas-dedupe) (2.4.5)\n",
      "Requirement already satisfied: python-dateutil>=2.6.1 in ./opt/anaconda3/lib/python3.7/site-packages (from pandas->pandas-dedupe) (2.8.0)\n",
      "Requirement already satisfied: pytz>=2017.2 in ./opt/anaconda3/lib/python3.7/site-packages (from pandas->pandas-dedupe) (2019.3)\n",
      "Requirement already satisfied: six in ./opt/anaconda3/lib/python3.7/site-packages (from zope.index->dedupe->pandas-dedupe) (1.12.0)\n",
      "Requirement already satisfied: persistent in ./opt/anaconda3/lib/python3.7/site-packages (from zope.index->dedupe->pandas-dedupe) (4.6.4)\n",
      "Requirement already satisfied: setuptools in ./opt/anaconda3/lib/python3.7/site-packages (from zope.index->dedupe->pandas-dedupe) (41.4.0)\n",
      "Requirement already satisfied: zope.interface in ./opt/anaconda3/lib/python3.7/site-packages (from zope.index->dedupe->pandas-dedupe) (5.1.0)\n",
      "Requirement already satisfied: datetime-distance in ./opt/anaconda3/lib/python3.7/site-packages (from dedupe-variable-datetime->dedupe->pandas-dedupe) (0.1.3)\n",
      "Requirement already satisfied: future in ./opt/anaconda3/lib/python3.7/site-packages (from dedupe-variable-datetime->dedupe->pandas-dedupe) (0.17.1)\n",
      "Requirement already satisfied: pyhacrf-datamade>=0.2.0 in ./opt/anaconda3/lib/python3.7/site-packages (from highered>=0.2.0->dedupe->pandas-dedupe) (0.2.5)\n",
      "Requirement already satisfied: pylbfgs in ./opt/anaconda3/lib/python3.7/site-packages (from rlr>=2.4.3->dedupe->pandas-dedupe) (0.2.0.13)\n",
      "Requirement already satisfied: cffi; platform_python_implementation == \"CPython\" in ./opt/anaconda3/lib/python3.7/site-packages (from persistent->zope.index->dedupe->pandas-dedupe) (1.12.3)\n",
      "Requirement already satisfied: pycparser in ./opt/anaconda3/lib/python3.7/site-packages (from cffi; platform_python_implementation == \"CPython\"->persistent->zope.index->dedupe->pandas-dedupe) (2.19)\n",
      "Installing collected packages: unidecode, pandas-dedupe\n",
      "Successfully installed pandas-dedupe-1.3.1 unidecode-1.1.1\n"
     ]
    }
   ],
   "source": [
    "!pip install pandas-dedupe"
   ]
  },
  {
   "cell_type": "code",
   "execution_count": null,
   "metadata": {},
   "outputs": [],
   "source": []
  },
  {
   "cell_type": "code",
   "execution_count": 6,
   "metadata": {},
   "outputs": [],
   "source": [
    "import pandas as pd\n",
    "import pandas_dedupe"
   ]
  },
  {
   "cell_type": "code",
   "execution_count": 15,
   "metadata": {},
   "outputs": [],
   "source": [
    "df = pd.read_csv('/Users/praveenreddy/Desktop/FPDS Sample Report.csv')"
   ]
  },
  {
   "cell_type": "code",
   "execution_count": 16,
   "metadata": {},
   "outputs": [
    {
     "data": {
      "text/html": [
       "<div>\n",
       "<style scoped>\n",
       "    .dataframe tbody tr th:only-of-type {\n",
       "        vertical-align: middle;\n",
       "    }\n",
       "\n",
       "    .dataframe tbody tr th {\n",
       "        vertical-align: top;\n",
       "    }\n",
       "\n",
       "    .dataframe thead th {\n",
       "        text-align: right;\n",
       "    }\n",
       "</style>\n",
       "<table border=\"1\" class=\"dataframe\">\n",
       "  <thead>\n",
       "    <tr style=\"text-align: right;\">\n",
       "      <th></th>\n",
       "      <th>PIID</th>\n",
       "      <th>Prepared Date</th>\n",
       "      <th>Date Signed</th>\n",
       "      <th>Contracting Office Region</th>\n",
       "      <th>Modification Number</th>\n",
       "      <th>Period of Performance Start Date</th>\n",
       "      <th>Funding Office ID</th>\n",
       "      <th>Principal Place of Performance Country Name</th>\n",
       "      <th>Vendor Name</th>\n",
       "      <th>Referenced  IDV PIID</th>\n",
       "      <th>...</th>\n",
       "      <th>IDV NAICS Code</th>\n",
       "      <th>IDV NAICS Description</th>\n",
       "      <th>NAICS Code</th>\n",
       "      <th>NAICS Description</th>\n",
       "      <th>Product or Service Code</th>\n",
       "      <th>Product or Service Description</th>\n",
       "      <th>Principal Place of Performance Country Code</th>\n",
       "      <th>Base and Exercised Options Value</th>\n",
       "      <th>Action Obligation</th>\n",
       "      <th>Base and All Options Value (Total Contract Value)</th>\n",
       "    </tr>\n",
       "  </thead>\n",
       "  <tbody>\n",
       "    <tr>\n",
       "      <td>0</td>\n",
       "      <td>191D3220C0016</td>\n",
       "      <td>08/04/20</td>\n",
       "      <td>08/04/20</td>\n",
       "      <td>EA</td>\n",
       "      <td>0</td>\n",
       "      <td>08/04/20</td>\n",
       "      <td>19XEAP</td>\n",
       "      <td>INDONESIA</td>\n",
       "      <td>MISCELLANEOUS FOREIGN AWARDEES</td>\n",
       "      <td>NaN</td>\n",
       "      <td>...</td>\n",
       "      <td>NaN</td>\n",
       "      <td>NaN</td>\n",
       "      <td>236118</td>\n",
       "      <td>RESIDENTIAL REMODELERS</td>\n",
       "      <td>Z2FZ</td>\n",
       "      <td>REPAIR OR ALTERATION OF OTHER RESIDENTIAL BUIL...</td>\n",
       "      <td>IDN</td>\n",
       "      <td>$10,257.11</td>\n",
       "      <td>$10,257.11</td>\n",
       "      <td>$10,257.11</td>\n",
       "    </tr>\n",
       "    <tr>\n",
       "      <td>1</td>\n",
       "      <td>191D3220P1723</td>\n",
       "      <td>8/18/20</td>\n",
       "      <td>8/18/20</td>\n",
       "      <td>EA</td>\n",
       "      <td>0</td>\n",
       "      <td>8/18/20</td>\n",
       "      <td>19XDS0</td>\n",
       "      <td>UNITED STATES</td>\n",
       "      <td>STATESIDE PROCUREMENT SERVICES, INC.</td>\n",
       "      <td>NaN</td>\n",
       "      <td>...</td>\n",
       "      <td>NaN</td>\n",
       "      <td>NaN</td>\n",
       "      <td>332999</td>\n",
       "      <td>ALL OTHER MISCELLANEOUS FABRICATED METAL PRODU...</td>\n",
       "      <td>7810</td>\n",
       "      <td>ATHLETIC AND SPORTING EQUIPMENT</td>\n",
       "      <td>USA</td>\n",
       "      <td>$11,068.00</td>\n",
       "      <td>$11,068.00</td>\n",
       "      <td>$11,068.00</td>\n",
       "    </tr>\n",
       "    <tr>\n",
       "      <td>2</td>\n",
       "      <td>191D8020P0224</td>\n",
       "      <td>8/13/20</td>\n",
       "      <td>8/13/20</td>\n",
       "      <td>EA</td>\n",
       "      <td>0</td>\n",
       "      <td>8/13/20</td>\n",
       "      <td>19XEAP</td>\n",
       "      <td>INDONESIA</td>\n",
       "      <td>MISCELLANEOUS FOREIGN AWARDEES</td>\n",
       "      <td>NaN</td>\n",
       "      <td>...</td>\n",
       "      <td>NaN</td>\n",
       "      <td>NaN</td>\n",
       "      <td>443142</td>\n",
       "      <td>ELECTRONICS STORES</td>\n",
       "      <td>6240</td>\n",
       "      <td>ELECTRIC LAMPS</td>\n",
       "      <td>IDN</td>\n",
       "      <td>$10,400.13</td>\n",
       "      <td>$10,400.13</td>\n",
       "      <td>$10,400.13</td>\n",
       "    </tr>\n",
       "    <tr>\n",
       "      <td>3</td>\n",
       "      <td>191N2918P0127</td>\n",
       "      <td>02/02/18</td>\n",
       "      <td>02/02/18</td>\n",
       "      <td>SC</td>\n",
       "      <td>0</td>\n",
       "      <td>02/02/18</td>\n",
       "      <td>19XSCA</td>\n",
       "      <td>INDIA</td>\n",
       "      <td>MISCELLANEOUS FOREIGN AWARDEES</td>\n",
       "      <td>NaN</td>\n",
       "      <td>...</td>\n",
       "      <td>NaN</td>\n",
       "      <td>NaN</td>\n",
       "      <td>492110</td>\n",
       "      <td>COURIERS AND EXPRESS DELIVERY SERVICES</td>\n",
       "      <td>R602</td>\n",
       "      <td>SUPPORT- ADMINISTRATIVE: COURIER/MESSENGER</td>\n",
       "      <td>IND</td>\n",
       "      <td>$3,852.68</td>\n",
       "      <td>$3,852.68</td>\n",
       "      <td>$3,852.68</td>\n",
       "    </tr>\n",
       "    <tr>\n",
       "      <td>4</td>\n",
       "      <td>191N2918P0127</td>\n",
       "      <td>2/28/18</td>\n",
       "      <td>2/28/18</td>\n",
       "      <td>SC</td>\n",
       "      <td>1</td>\n",
       "      <td>2/28/18</td>\n",
       "      <td>19XSCA</td>\n",
       "      <td>INDIA</td>\n",
       "      <td>MISCELLANEOUS FOREIGN AWARDEES</td>\n",
       "      <td>NaN</td>\n",
       "      <td>...</td>\n",
       "      <td>NaN</td>\n",
       "      <td>NaN</td>\n",
       "      <td>492110</td>\n",
       "      <td>COURIERS AND EXPRESS DELIVERY SERVICES</td>\n",
       "      <td>R602</td>\n",
       "      <td>SUPPORT- ADMINISTRATIVE: COURIER/MESSENGER</td>\n",
       "      <td>IND</td>\n",
       "      <td>$0.00</td>\n",
       "      <td>$0.00</td>\n",
       "      <td>$0.00</td>\n",
       "    </tr>\n",
       "    <tr>\n",
       "      <td>...</td>\n",
       "      <td>...</td>\n",
       "      <td>...</td>\n",
       "      <td>...</td>\n",
       "      <td>...</td>\n",
       "      <td>...</td>\n",
       "      <td>...</td>\n",
       "      <td>...</td>\n",
       "      <td>...</td>\n",
       "      <td>...</td>\n",
       "      <td>...</td>\n",
       "      <td>...</td>\n",
       "      <td>...</td>\n",
       "      <td>...</td>\n",
       "      <td>...</td>\n",
       "      <td>...</td>\n",
       "      <td>...</td>\n",
       "      <td>...</td>\n",
       "      <td>...</td>\n",
       "      <td>...</td>\n",
       "      <td>...</td>\n",
       "      <td>...</td>\n",
       "    </tr>\n",
       "    <tr>\n",
       "      <td>550</td>\n",
       "      <td>SIN29217M0704</td>\n",
       "      <td>9/29/17</td>\n",
       "      <td>9/29/17</td>\n",
       "      <td>SC</td>\n",
       "      <td>0</td>\n",
       "      <td>9/29/17</td>\n",
       "      <td>19XSCA</td>\n",
       "      <td>INDIA</td>\n",
       "      <td>MISCELLANEOUS FOREIGN AWARDEES</td>\n",
       "      <td>NaN</td>\n",
       "      <td>...</td>\n",
       "      <td>NaN</td>\n",
       "      <td>NaN</td>\n",
       "      <td>561710</td>\n",
       "      <td>EXTERMINATING AND PEST CONTROL SERVICES</td>\n",
       "      <td>6840</td>\n",
       "      <td>PEST CONTROL AGENTS AND DISINFECTANTS</td>\n",
       "      <td>IND</td>\n",
       "      <td>$5,741.89</td>\n",
       "      <td>$5,741.89</td>\n",
       "      <td>$5,741.89</td>\n",
       "    </tr>\n",
       "    <tr>\n",
       "      <td>551</td>\n",
       "      <td>SIN29217V0213</td>\n",
       "      <td>09/05/17</td>\n",
       "      <td>09/05/17</td>\n",
       "      <td>SC</td>\n",
       "      <td>0</td>\n",
       "      <td>09/05/17</td>\n",
       "      <td>19XSCA</td>\n",
       "      <td>INDIA</td>\n",
       "      <td>APPLE INC.</td>\n",
       "      <td>NaN</td>\n",
       "      <td>...</td>\n",
       "      <td>NaN</td>\n",
       "      <td>NaN</td>\n",
       "      <td>334210</td>\n",
       "      <td>TELEPHONE APPARATUS MANUFACTURING</td>\n",
       "      <td>5805</td>\n",
       "      <td>TELEPHONE AND TELEGRAPH EQUIPMENT</td>\n",
       "      <td>IND</td>\n",
       "      <td>$9,600.00</td>\n",
       "      <td>$9,600.00</td>\n",
       "      <td>$9,600.00</td>\n",
       "    </tr>\n",
       "    <tr>\n",
       "      <td>552</td>\n",
       "      <td>SSF75016M0381</td>\n",
       "      <td>03/07/16</td>\n",
       "      <td>03/07/16</td>\n",
       "      <td>AF</td>\n",
       "      <td>0</td>\n",
       "      <td>03/07/16</td>\n",
       "      <td>AF</td>\n",
       "      <td>SOUTH AFRICA</td>\n",
       "      <td>MISCELLANEOUS FOREIGN AWARDEES</td>\n",
       "      <td>NaN</td>\n",
       "      <td>...</td>\n",
       "      <td>NaN</td>\n",
       "      <td>NaN</td>\n",
       "      <td>517210</td>\n",
       "      <td>WIRELESS TELECOMMUNICATIONS CARRIERS (EXCEPT S...</td>\n",
       "      <td>D304</td>\n",
       "      <td>IT AND TELECOM- TELECOMMUNICATIONS AND TRANSMI...</td>\n",
       "      <td>ZAF</td>\n",
       "      <td>$4,320.55</td>\n",
       "      <td>$4,320.55</td>\n",
       "      <td>$4,320.55</td>\n",
       "    </tr>\n",
       "    <tr>\n",
       "      <td>553</td>\n",
       "      <td>SSF75016M0381</td>\n",
       "      <td>03/07/17</td>\n",
       "      <td>03/07/17</td>\n",
       "      <td>AF</td>\n",
       "      <td>1</td>\n",
       "      <td>03/07/17</td>\n",
       "      <td>19XAF0</td>\n",
       "      <td>SOUTH AFRICA</td>\n",
       "      <td>MISCELLANEOUS FOREIGN AWARDEES</td>\n",
       "      <td>NaN</td>\n",
       "      <td>...</td>\n",
       "      <td>NaN</td>\n",
       "      <td>NaN</td>\n",
       "      <td>517210</td>\n",
       "      <td>WIRELESS TELECOMMUNICATIONS CARRIERS (EXCEPT S...</td>\n",
       "      <td>D304</td>\n",
       "      <td>IT AND TELECOM- TELECOMMUNICATIONS AND TRANSMI...</td>\n",
       "      <td>ZAF</td>\n",
       "      <td>$868.62</td>\n",
       "      <td>$868.62</td>\n",
       "      <td>$868.62</td>\n",
       "    </tr>\n",
       "    <tr>\n",
       "      <td>554</td>\n",
       "      <td>SSF75016M0381</td>\n",
       "      <td>8/24/20</td>\n",
       "      <td>8/24/20</td>\n",
       "      <td>AF</td>\n",
       "      <td>M002</td>\n",
       "      <td>03/07/16</td>\n",
       "      <td>19XAF0</td>\n",
       "      <td>SOUTH AFRICA</td>\n",
       "      <td>MISCELLANEOUS FOREIGN AWARDEES</td>\n",
       "      <td>NaN</td>\n",
       "      <td>...</td>\n",
       "      <td>NaN</td>\n",
       "      <td>NaN</td>\n",
       "      <td>517210</td>\n",
       "      <td>WIRELESS TELECOMMUNICATIONS CARRIERS (EXCEPT S...</td>\n",
       "      <td>D304</td>\n",
       "      <td>IT AND TELECOM- TELECOMMUNICATIONS AND TRANSMI...</td>\n",
       "      <td>ZAF</td>\n",
       "      <td>($656.12)</td>\n",
       "      <td>($656.12)</td>\n",
       "      <td>($656.12)</td>\n",
       "    </tr>\n",
       "  </tbody>\n",
       "</table>\n",
       "<p>555 rows × 25 columns</p>\n",
       "</div>"
      ],
      "text/plain": [
       "              PIID Prepared Date Date Signed Contracting Office Region  \\\n",
       "0    191D3220C0016      08/04/20    08/04/20                        EA   \n",
       "1    191D3220P1723       8/18/20     8/18/20                        EA   \n",
       "2    191D8020P0224       8/13/20     8/13/20                        EA   \n",
       "3    191N2918P0127      02/02/18    02/02/18                        SC   \n",
       "4    191N2918P0127       2/28/18     2/28/18                        SC   \n",
       "..             ...           ...         ...                       ...   \n",
       "550  SIN29217M0704       9/29/17     9/29/17                        SC   \n",
       "551  SIN29217V0213      09/05/17    09/05/17                        SC   \n",
       "552  SSF75016M0381      03/07/16    03/07/16                        AF   \n",
       "553  SSF75016M0381      03/07/17    03/07/17                        AF   \n",
       "554  SSF75016M0381       8/24/20     8/24/20                        AF   \n",
       "\n",
       "    Modification Number Period of Performance Start Date Funding Office ID  \\\n",
       "0                     0                         08/04/20            19XEAP   \n",
       "1                     0                          8/18/20            19XDS0   \n",
       "2                     0                          8/13/20            19XEAP   \n",
       "3                     0                         02/02/18            19XSCA   \n",
       "4                     1                          2/28/18            19XSCA   \n",
       "..                  ...                              ...               ...   \n",
       "550                   0                          9/29/17            19XSCA   \n",
       "551                   0                         09/05/17            19XSCA   \n",
       "552                   0                         03/07/16                AF   \n",
       "553                   1                         03/07/17            19XAF0   \n",
       "554                M002                         03/07/16            19XAF0   \n",
       "\n",
       "    Principal Place of Performance Country Name  \\\n",
       "0                                     INDONESIA   \n",
       "1                                 UNITED STATES   \n",
       "2                                     INDONESIA   \n",
       "3                                         INDIA   \n",
       "4                                         INDIA   \n",
       "..                                          ...   \n",
       "550                                       INDIA   \n",
       "551                                       INDIA   \n",
       "552                                SOUTH AFRICA   \n",
       "553                                SOUTH AFRICA   \n",
       "554                                SOUTH AFRICA   \n",
       "\n",
       "                              Vendor Name Referenced  IDV PIID  ...  \\\n",
       "0          MISCELLANEOUS FOREIGN AWARDEES                  NaN  ...   \n",
       "1    STATESIDE PROCUREMENT SERVICES, INC.                  NaN  ...   \n",
       "2          MISCELLANEOUS FOREIGN AWARDEES                  NaN  ...   \n",
       "3          MISCELLANEOUS FOREIGN AWARDEES                  NaN  ...   \n",
       "4          MISCELLANEOUS FOREIGN AWARDEES                  NaN  ...   \n",
       "..                                    ...                  ...  ...   \n",
       "550        MISCELLANEOUS FOREIGN AWARDEES                  NaN  ...   \n",
       "551                            APPLE INC.                  NaN  ...   \n",
       "552        MISCELLANEOUS FOREIGN AWARDEES                  NaN  ...   \n",
       "553        MISCELLANEOUS FOREIGN AWARDEES                  NaN  ...   \n",
       "554        MISCELLANEOUS FOREIGN AWARDEES                  NaN  ...   \n",
       "\n",
       "    IDV NAICS Code  IDV NAICS Description NAICS Code  \\\n",
       "0              NaN                    NaN     236118   \n",
       "1              NaN                    NaN     332999   \n",
       "2              NaN                    NaN     443142   \n",
       "3              NaN                    NaN     492110   \n",
       "4              NaN                    NaN     492110   \n",
       "..             ...                    ...        ...   \n",
       "550            NaN                    NaN     561710   \n",
       "551            NaN                    NaN     334210   \n",
       "552            NaN                    NaN     517210   \n",
       "553            NaN                    NaN     517210   \n",
       "554            NaN                    NaN     517210   \n",
       "\n",
       "                                     NAICS Description  \\\n",
       "0                               RESIDENTIAL REMODELERS   \n",
       "1    ALL OTHER MISCELLANEOUS FABRICATED METAL PRODU...   \n",
       "2                                   ELECTRONICS STORES   \n",
       "3               COURIERS AND EXPRESS DELIVERY SERVICES   \n",
       "4               COURIERS AND EXPRESS DELIVERY SERVICES   \n",
       "..                                                 ...   \n",
       "550            EXTERMINATING AND PEST CONTROL SERVICES   \n",
       "551                  TELEPHONE APPARATUS MANUFACTURING   \n",
       "552  WIRELESS TELECOMMUNICATIONS CARRIERS (EXCEPT S...   \n",
       "553  WIRELESS TELECOMMUNICATIONS CARRIERS (EXCEPT S...   \n",
       "554  WIRELESS TELECOMMUNICATIONS CARRIERS (EXCEPT S...   \n",
       "\n",
       "    Product or Service Code  \\\n",
       "0                      Z2FZ   \n",
       "1                      7810   \n",
       "2                      6240   \n",
       "3                      R602   \n",
       "4                      R602   \n",
       "..                      ...   \n",
       "550                    6840   \n",
       "551                    5805   \n",
       "552                    D304   \n",
       "553                    D304   \n",
       "554                    D304   \n",
       "\n",
       "                        Product or Service Description  \\\n",
       "0    REPAIR OR ALTERATION OF OTHER RESIDENTIAL BUIL...   \n",
       "1                      ATHLETIC AND SPORTING EQUIPMENT   \n",
       "2                                       ELECTRIC LAMPS   \n",
       "3           SUPPORT- ADMINISTRATIVE: COURIER/MESSENGER   \n",
       "4           SUPPORT- ADMINISTRATIVE: COURIER/MESSENGER   \n",
       "..                                                 ...   \n",
       "550              PEST CONTROL AGENTS AND DISINFECTANTS   \n",
       "551                  TELEPHONE AND TELEGRAPH EQUIPMENT   \n",
       "552  IT AND TELECOM- TELECOMMUNICATIONS AND TRANSMI...   \n",
       "553  IT AND TELECOM- TELECOMMUNICATIONS AND TRANSMI...   \n",
       "554  IT AND TELECOM- TELECOMMUNICATIONS AND TRANSMI...   \n",
       "\n",
       "    Principal Place of Performance Country Code  \\\n",
       "0                                           IDN   \n",
       "1                                           USA   \n",
       "2                                           IDN   \n",
       "3                                           IND   \n",
       "4                                           IND   \n",
       "..                                          ...   \n",
       "550                                         IND   \n",
       "551                                         IND   \n",
       "552                                         ZAF   \n",
       "553                                         ZAF   \n",
       "554                                         ZAF   \n",
       "\n",
       "     Base and Exercised Options Value Action Obligation  \\\n",
       "0                         $10,257.11        $10,257.11    \n",
       "1                         $11,068.00        $11,068.00    \n",
       "2                         $10,400.13        $10,400.13    \n",
       "3                          $3,852.68         $3,852.68    \n",
       "4                              $0.00             $0.00    \n",
       "..                                ...               ...   \n",
       "550                        $5,741.89         $5,741.89    \n",
       "551                        $9,600.00         $9,600.00    \n",
       "552                        $4,320.55         $4,320.55    \n",
       "553                          $868.62           $868.62    \n",
       "554                         ($656.12)         ($656.12)   \n",
       "\n",
       "    Base and All Options Value (Total Contract Value)  \n",
       "0                                         $10,257.11   \n",
       "1                                         $11,068.00   \n",
       "2                                         $10,400.13   \n",
       "3                                          $3,852.68   \n",
       "4                                              $0.00   \n",
       "..                                                ...  \n",
       "550                                        $5,741.89   \n",
       "551                                        $9,600.00   \n",
       "552                                        $4,320.55   \n",
       "553                                          $868.62   \n",
       "554                                         ($656.12)  \n",
       "\n",
       "[555 rows x 25 columns]"
      ]
     },
     "execution_count": 16,
     "metadata": {},
     "output_type": "execute_result"
    }
   ],
   "source": [
    "df"
   ]
  },
  {
   "cell_type": "code",
   "execution_count": 17,
   "metadata": {},
   "outputs": [
    {
     "name": "stdout",
     "output_type": "stream",
     "text": [
      "Importing data ...\n"
     ]
    },
    {
     "name": "stderr",
     "output_type": "stream",
     "text": [
      "Description of Requirement : gitm it\n",
      "\n",
      "Description of Requirement : gitm it\n",
      "\n",
      "0/10 positive, 0/10 negative\n",
      "Do these records refer to the same thing?\n",
      "(y)es / (n)o / (u)nsure / (f)inished\n"
     ]
    },
    {
     "name": "stdout",
     "output_type": "stream",
     "text": [
      "Starting active labeling...\n",
      "y\n"
     ]
    },
    {
     "name": "stderr",
     "output_type": "stream",
     "text": [
      "Description of Requirement : gitm it\n",
      "\n",
      "Description of Requirement : gitm it\n",
      "\n",
      "1/10 positive, 0/10 negative\n",
      "Do these records refer to the same thing?\n",
      "(y)es / (n)o / (u)nsure / (f)inished / (p)revious\n"
     ]
    },
    {
     "name": "stdout",
     "output_type": "stream",
     "text": [
      "y\n"
     ]
    },
    {
     "name": "stderr",
     "output_type": "stream",
     "text": [
      "Description of Requirement : shipping\n",
      "\n",
      "Description of Requirement : shipping\n",
      "\n",
      "2/10 positive, 0/10 negative\n",
      "Do these records refer to the same thing?\n",
      "(y)es / (n)o / (u)nsure / (f)inished / (p)revious\n"
     ]
    },
    {
     "name": "stdout",
     "output_type": "stream",
     "text": [
      "y\n"
     ]
    },
    {
     "name": "stderr",
     "output_type": "stream",
     "text": [
      "Description of Requirement : shipping\n",
      "\n",
      "Description of Requirement : shipping\n",
      "\n",
      "3/10 positive, 0/10 negative\n",
      "Do these records refer to the same thing?\n",
      "(y)es / (n)o / (u)nsure / (f)inished / (p)revious\n"
     ]
    },
    {
     "name": "stdout",
     "output_type": "stream",
     "text": [
      "y\n"
     ]
    },
    {
     "name": "stderr",
     "output_type": "stream",
     "text": [
      "Description of Requirement : airport transfer service for incoming officer and family\n",
      "\n",
      "Description of Requirement : airport transfer service for incoming officer and family (ep)\n",
      "\n",
      "4/10 positive, 0/10 negative\n",
      "Do these records refer to the same thing?\n",
      "(y)es / (n)o / (u)nsure / (f)inished / (p)revious\n"
     ]
    },
    {
     "name": "stdout",
     "output_type": "stream",
     "text": [
      "y\n"
     ]
    },
    {
     "name": "stderr",
     "output_type": "stream",
     "text": [
      "Description of Requirement : hospital transfer service (swab test) for incoming officer and family (ra)\n",
      "\n",
      "Description of Requirement : hospital transfer service (swab test) for incoming officer and family (ep)\n",
      "\n",
      "5/10 positive, 0/10 negative\n",
      "Do these records refer to the same thing?\n",
      "(y)es / (n)o / (u)nsure / (f)inished / (p)revious\n"
     ]
    },
    {
     "name": "stdout",
     "output_type": "stream",
     "text": [
      "y\n"
     ]
    },
    {
     "name": "stderr",
     "output_type": "stream",
     "text": [
      "Description of Requirement : hhe/uab pack out and exportation\n",
      "\n",
      "Description of Requirement : hheuab pack out and exportation\n",
      "\n",
      "6/10 positive, 0/10 negative\n",
      "Do these records refer to the same thing?\n",
      "(y)es / (n)o / (u)nsure / (f)inished / (p)revious\n"
     ]
    },
    {
     "name": "stdout",
     "output_type": "stream",
     "text": [
      "y\n"
     ]
    },
    {
     "name": "stderr",
     "output_type": "stream",
     "text": [
      "Description of Requirement : pr8989040: rso-cacs-fabrication and installation of reception\n",
      "\n",
      "Description of Requirement : pr8989040: rso-cacs-fabricationinstallation of reception\n",
      "\n",
      "7/10 positive, 0/10 negative\n",
      "Do these records refer to the same thing?\n",
      "(y)es / (n)o / (u)nsure / (f)inished / (p)revious\n"
     ]
    },
    {
     "name": "stdout",
     "output_type": "stream",
     "text": [
      "y\n"
     ]
    },
    {
     "name": "stderr",
     "output_type": "stream",
     "text": [
      "Description of Requirement : it\n",
      "\n",
      "Description of Requirement : it electronic computer components\n",
      "\n",
      "8/10 positive, 0/10 negative\n",
      "Do these records refer to the same thing?\n",
      "(y)es / (n)o / (u)nsure / (f)inished / (p)revious\n"
     ]
    },
    {
     "name": "stdout",
     "output_type": "stream",
     "text": [
      "u\n"
     ]
    },
    {
     "name": "stderr",
     "output_type": "stream",
     "text": [
      "Description of Requirement : hospital transfer service (swab test) for gso incoming officer and family\n",
      "\n",
      "Description of Requirement : hospital transfer service (swab test) for incoming officer (rmo)\n",
      "\n",
      "8/10 positive, 0/10 negative\n",
      "Do these records refer to the same thing?\n",
      "(y)es / (n)o / (u)nsure / (f)inished / (p)revious\n"
     ]
    },
    {
     "name": "stdout",
     "output_type": "stream",
     "text": [
      "n\n"
     ]
    },
    {
     "name": "stderr",
     "output_type": "stream",
     "text": [
      "Description of Requirement : cell phone services\n",
      "\n",
      "Description of Requirement : cellular phone services\n",
      "\n",
      "8/10 positive, 1/10 negative\n",
      "Do these records refer to the same thing?\n",
      "(y)es / (n)o / (u)nsure / (f)inished / (p)revious\n"
     ]
    },
    {
     "name": "stdout",
     "output_type": "stream",
     "text": [
      "y\n"
     ]
    },
    {
     "name": "stderr",
     "output_type": "stream",
     "text": [
      "Description of Requirement : airport transfer service for incoming officer and family\n",
      "\n",
      "Description of Requirement : hospital transfer service (swab test) for incoming officer and family (ra)\n",
      "\n",
      "9/10 positive, 1/10 negative\n",
      "Do these records refer to the same thing?\n",
      "(y)es / (n)o / (u)nsure / (f)inished / (p)revious\n"
     ]
    },
    {
     "name": "stdout",
     "output_type": "stream",
     "text": [
      "n\n"
     ]
    },
    {
     "name": "stderr",
     "output_type": "stream",
     "text": [
      "Description of Requirement : airport transfer service for incoming officer and family\n",
      "\n",
      "Description of Requirement : hospital transfer service (swab test) for incoming officer and family\n",
      "\n",
      "9/10 positive, 2/10 negative\n",
      "Do these records refer to the same thing?\n",
      "(y)es / (n)o / (u)nsure / (f)inished / (p)revious\n"
     ]
    },
    {
     "name": "stdout",
     "output_type": "stream",
     "text": [
      "n\n"
     ]
    },
    {
     "name": "stderr",
     "output_type": "stream",
     "text": [
      "Description of Requirement : annual maintenance contract for elevators in office buildings by authorized service provider.\n",
      "\n",
      "Description of Requirement : janitorial service\n",
      "\n",
      "9/10 positive, 3/10 negative\n",
      "Do these records refer to the same thing?\n",
      "(y)es / (n)o / (u)nsure / (f)inished / (p)revious\n"
     ]
    },
    {
     "name": "stdout",
     "output_type": "stream",
     "text": [
      "n\n"
     ]
    },
    {
     "name": "stderr",
     "output_type": "stream",
     "text": [
      "Description of Requirement : irm - cellphone charges for march 2020\n",
      "\n",
      "Description of Requirement : irm - cellphone charges for september 2020\n",
      "\n",
      "9/10 positive, 4/10 negative\n",
      "Do these records refer to the same thing?\n",
      "(y)es / (n)o / (u)nsure / (f)inished / (p)revious\n"
     ]
    },
    {
     "name": "stdout",
     "output_type": "stream",
     "text": [
      "n\n"
     ]
    },
    {
     "name": "stderr",
     "output_type": "stream",
     "text": [
      "Description of Requirement : annual developmental and corrective maintenance services contract of the energy monitoring systems currently installed.\n",
      "\n",
      "Description of Requirement : hu equipment ambulance cot.\n",
      "\n",
      "9/10 positive, 5/10 negative\n",
      "Do these records refer to the same thing?\n",
      "(y)es / (n)o / (u)nsure / (f)inished / (p)revious\n"
     ]
    },
    {
     "name": "stdout",
     "output_type": "stream",
     "text": [
      "n\n"
     ]
    },
    {
     "name": "stderr",
     "output_type": "stream",
     "text": [
      "Description of Requirement : grillwork at 7 haperach begani(new leased residence)\n",
      "\n",
      "Description of Requirement : 52.225-13\n",
      "\n",
      "9/10 positive, 6/10 negative\n",
      "Do these records refer to the same thing?\n",
      "(y)es / (n)o / (u)nsure / (f)inished / (p)revious\n"
     ]
    },
    {
     "name": "stdout",
     "output_type": "stream",
     "text": [
      "n\n"
     ]
    },
    {
     "name": "stderr",
     "output_type": "stream",
     "text": [
      "Description of Requirement : maintenance of generator no3 -12008\n",
      "\n",
      "Description of Requirement : maintenance of generator no3 -12008\n",
      "\n",
      "9/10 positive, 7/10 negative\n",
      "Do these records refer to the same thing?\n",
      "(y)es / (n)o / (u)nsure / (f)inished / (p)revious\n"
     ]
    },
    {
     "name": "stdout",
     "output_type": "stream",
     "text": [
      "y\n"
     ]
    },
    {
     "name": "stderr",
     "output_type": "stream",
     "text": [
      "Description of Requirement : fm-pr6372477-cafeteria kitchen exh. semi annual.pm-obo\n",
      "\n",
      "Description of Requirement : fm-pr6372477-cafeteria kitchen exh. semi annual.pm-obo\n",
      "\n",
      "10/10 positive, 7/10 negative\n",
      "Do these records refer to the same thing?\n",
      "(y)es / (n)o / (u)nsure / (f)inished / (p)revious\n"
     ]
    },
    {
     "name": "stdout",
     "output_type": "stream",
     "text": [
      "y\n"
     ]
    },
    {
     "name": "stderr",
     "output_type": "stream",
     "text": [
      "Description of Requirement : it electronic computer components\n",
      "\n",
      "Description of Requirement : it electronic computer components\n",
      "\n",
      "11/10 positive, 7/10 negative\n",
      "Do these records refer to the same thing?\n",
      "(y)es / (n)o / (u)nsure / (f)inished / (p)revious\n"
     ]
    },
    {
     "name": "stdout",
     "output_type": "stream",
     "text": [
      "y\n"
     ]
    },
    {
     "name": "stderr",
     "output_type": "stream",
     "text": [
      "Description of Requirement : it electronic computer components\n",
      "\n",
      "Description of Requirement : it electronic computer components\n",
      "\n",
      "12/10 positive, 7/10 negative\n",
      "Do these records refer to the same thing?\n",
      "(y)es / (n)o / (u)nsure / (f)inished / (p)revious\n"
     ]
    },
    {
     "name": "stdout",
     "output_type": "stream",
     "text": [
      "y\n"
     ]
    },
    {
     "name": "stderr",
     "output_type": "stream",
     "text": [
      "Description of Requirement : sin/gso- modification of funding information for dps pack-out for fmo officer - family movers\n",
      "\n",
      "Description of Requirement : sin/gso property - aug moving jobs\n",
      "\n",
      "13/10 positive, 7/10 negative\n",
      "Do these records refer to the same thing?\n",
      "(y)es / (n)o / (u)nsure / (f)inished / (p)revious\n"
     ]
    },
    {
     "name": "stdout",
     "output_type": "stream",
     "text": [
      "n\n"
     ]
    },
    {
     "name": "stderr",
     "output_type": "stream",
     "text": [
      "Description of Requirement : packing and shipping services\n",
      "\n",
      "Description of Requirement : beijing gso shipping-pack out for fitzmaurice, stephanie- cd\n",
      "\n",
      "13/10 positive, 8/10 negative\n",
      "Do these records refer to the same thing?\n",
      "(y)es / (n)o / (u)nsure / (f)inished / (p)revious\n"
     ]
    },
    {
     "name": "stdout",
     "output_type": "stream",
     "text": [
      "u\n"
     ]
    },
    {
     "name": "stderr",
     "output_type": "stream",
     "text": [
      "Description of Requirement : hhe/uab packout and exportation\n",
      "\n",
      "Description of Requirement : hhe/uab packout and exportation\n",
      "\n",
      "13/10 positive, 8/10 negative\n",
      "Do these records refer to the same thing?\n",
      "(y)es / (n)o / (u)nsure / (f)inished / (p)revious\n"
     ]
    },
    {
     "name": "stdout",
     "output_type": "stream",
     "text": [
      "y\n"
     ]
    },
    {
     "name": "stderr",
     "output_type": "stream",
     "text": [
      "Description of Requirement : it electronic computer components\n",
      "\n",
      "Description of Requirement : it electronic computer components\n",
      "\n",
      "14/10 positive, 8/10 negative\n",
      "Do these records refer to the same thing?\n",
      "(y)es / (n)o / (u)nsure / (f)inished / (p)revious\n"
     ]
    },
    {
     "name": "stdout",
     "output_type": "stream",
     "text": [
      "y\n"
     ]
    },
    {
     "name": "stderr",
     "output_type": "stream",
     "text": [
      "Description of Requirement : legal representation for embassy lease issue - august 2020\n",
      "\n",
      "Description of Requirement : legal representation for embassy lease issue - august 2020\n",
      "\n",
      "15/10 positive, 8/10 negative\n",
      "Do these records refer to the same thing?\n",
      "(y)es / (n)o / (u)nsure / (f)inished / (p)revious\n"
     ]
    },
    {
     "name": "stdout",
     "output_type": "stream",
     "text": [
      "y\n"
     ]
    },
    {
     "name": "stderr",
     "output_type": "stream",
     "text": [
      "Description of Requirement : annual international courier service for 2018\n",
      "\n",
      "Description of Requirement : annual international courier service for 2018\n",
      "\n",
      "16/10 positive, 8/10 negative\n",
      "Do these records refer to the same thing?\n",
      "(y)es / (n)o / (u)nsure / (f)inished / (p)revious\n"
     ]
    },
    {
     "name": "stdout",
     "output_type": "stream",
     "text": [
      "y\n"
     ]
    },
    {
     "name": "stderr",
     "output_type": "stream",
     "text": [
      "Description of Requirement : it electronic computer components\n",
      "\n",
      "Description of Requirement : it electronic computer components\n",
      "\n",
      "17/10 positive, 8/10 negative\n",
      "Do these records refer to the same thing?\n",
      "(y)es / (n)o / (u)nsure / (f)inished / (p)revious\n"
     ]
    },
    {
     "name": "stdout",
     "output_type": "stream",
     "text": [
      "y\n"
     ]
    },
    {
     "name": "stderr",
     "output_type": "stream",
     "text": [
      "Description of Requirement : furniture for overseas personnel.\n",
      "\n",
      "Description of Requirement : furniture for overseas personnel.\n",
      "\n",
      "18/10 positive, 8/10 negative\n",
      "Do these records refer to the same thing?\n",
      "(y)es / (n)o / (u)nsure / (f)inished / (p)revious\n"
     ]
    },
    {
     "name": "stdout",
     "output_type": "stream",
     "text": [
      "y\n"
     ]
    },
    {
     "name": "stderr",
     "output_type": "stream",
     "text": [
      "Description of Requirement : furniture for overseas personnel.\n",
      "\n",
      "Description of Requirement : furniture for overseas personnel.\n",
      "\n",
      "19/10 positive, 8/10 negative\n",
      "Do these records refer to the same thing?\n",
      "(y)es / (n)o / (u)nsure / (f)inished / (p)revious\n"
     ]
    },
    {
     "name": "stdout",
     "output_type": "stream",
     "text": [
      "y\n"
     ]
    },
    {
     "name": "stderr",
     "output_type": "stream",
     "text": [
      "Description of Requirement : it electronic computer components\n",
      "\n",
      "Description of Requirement : it electronic computer components\n",
      "\n",
      "20/10 positive, 8/10 negative\n",
      "Do these records refer to the same thing?\n",
      "(y)es / (n)o / (u)nsure / (f)inished / (p)revious\n"
     ]
    },
    {
     "name": "stdout",
     "output_type": "stream",
     "text": [
      "y\n"
     ]
    },
    {
     "name": "stderr",
     "output_type": "stream",
     "text": [
      "Description of Requirement : gitm it\n",
      "\n",
      "Description of Requirement : it electronic computer components\n",
      "\n",
      "21/10 positive, 8/10 negative\n",
      "Do these records refer to the same thing?\n",
      "(y)es / (n)o / (u)nsure / (f)inished / (p)revious\n"
     ]
    },
    {
     "name": "stdout",
     "output_type": "stream",
     "text": [
      "n\n"
     ]
    },
    {
     "name": "stderr",
     "output_type": "stream",
     "text": [
      "Description of Requirement : irm - cellphone charges for april 2020\n",
      "\n",
      "Description of Requirement : cellphone services\n",
      "\n",
      "21/10 positive, 9/10 negative\n",
      "Do these records refer to the same thing?\n",
      "(y)es / (n)o / (u)nsure / (f)inished / (p)revious\n"
     ]
    },
    {
     "name": "stdout",
     "output_type": "stream",
     "text": [
      "n\n"
     ]
    },
    {
     "name": "stderr",
     "output_type": "stream",
     "text": [
      "Description of Requirement : it electronic computer components\n",
      "\n",
      "Description of Requirement : it electronic computer components\n",
      "\n",
      "21/10 positive, 10/10 negative\n",
      "Do these records refer to the same thing?\n",
      "(y)es / (n)o / (u)nsure / (f)inished / (p)revious\n"
     ]
    },
    {
     "name": "stdout",
     "output_type": "stream",
     "text": [
      "y\n"
     ]
    },
    {
     "name": "stderr",
     "output_type": "stream",
     "text": [
      "Description of Requirement : lag-irm: convert container at llc to radio room\n",
      "\n",
      "Description of Requirement : lag-irm: convert container at llc to radio room\n",
      "\n",
      "22/10 positive, 10/10 negative\n",
      "Do these records refer to the same thing?\n",
      "(y)es / (n)o / (u)nsure / (f)inished / (p)revious\n"
     ]
    },
    {
     "name": "stdout",
     "output_type": "stream",
     "text": [
      "y\n"
     ]
    },
    {
     "name": "stderr",
     "output_type": "stream",
     "text": [
      "Description of Requirement : sin/gso property - aug moving jobs\n",
      "\n",
      "Description of Requirement : sin/gso property - aug moving jobs\n",
      "\n",
      "23/10 positive, 10/10 negative\n",
      "Do these records refer to the same thing?\n",
      "(y)es / (n)o / (u)nsure / (f)inished / (p)revious\n"
     ]
    },
    {
     "name": "stdout",
     "output_type": "stream",
     "text": [
      "y\n"
     ]
    },
    {
     "name": "stderr",
     "output_type": "stream",
     "text": [
      "Description of Requirement : it electronic computer components\n",
      "\n",
      "Description of Requirement : it electronic computer components\n",
      "\n",
      "24/10 positive, 10/10 negative\n",
      "Do these records refer to the same thing?\n",
      "(y)es / (n)o / (u)nsure / (f)inished / (p)revious\n"
     ]
    },
    {
     "name": "stdout",
     "output_type": "stream",
     "text": [
      "y\n"
     ]
    },
    {
     "name": "stderr",
     "output_type": "stream",
     "text": [
      "Description of Requirement : it electronic computer components\n",
      "\n",
      "Description of Requirement : it electronic computer components\n",
      "\n",
      "25/10 positive, 10/10 negative\n",
      "Do these records refer to the same thing?\n",
      "(y)es / (n)o / (u)nsure / (f)inished / (p)revious\n"
     ]
    },
    {
     "name": "stdout",
     "output_type": "stream",
     "text": [
      "f\n"
     ]
    },
    {
     "name": "stderr",
     "output_type": "stream",
     "text": [
      "Finished labeling\n"
     ]
    },
    {
     "name": "stdout",
     "output_type": "stream",
     "text": [
      "Clustering...\n",
      "# duplicate sets 292\n"
     ]
    }
   ],
   "source": [
    "df = pandas_dedupe.dedupe_dataframe(df,['Description of Requirement'])"
   ]
  },
  {
   "cell_type": "code",
   "execution_count": 18,
   "metadata": {},
   "outputs": [
    {
     "data": {
      "text/html": [
       "<div>\n",
       "<style scoped>\n",
       "    .dataframe tbody tr th:only-of-type {\n",
       "        vertical-align: middle;\n",
       "    }\n",
       "\n",
       "    .dataframe tbody tr th {\n",
       "        vertical-align: top;\n",
       "    }\n",
       "\n",
       "    .dataframe thead th {\n",
       "        text-align: right;\n",
       "    }\n",
       "</style>\n",
       "<table border=\"1\" class=\"dataframe\">\n",
       "  <thead>\n",
       "    <tr style=\"text-align: right;\">\n",
       "      <th></th>\n",
       "      <th>PIID</th>\n",
       "      <th>Prepared Date</th>\n",
       "      <th>Date Signed</th>\n",
       "      <th>Contracting Office Region</th>\n",
       "      <th>Modification Number</th>\n",
       "      <th>Period of Performance Start Date</th>\n",
       "      <th>Funding Office ID</th>\n",
       "      <th>Principal Place of Performance Country Name</th>\n",
       "      <th>Vendor Name</th>\n",
       "      <th>Referenced  IDV PIID</th>\n",
       "      <th>...</th>\n",
       "      <th>NAICS Code</th>\n",
       "      <th>NAICS Description</th>\n",
       "      <th>Product or Service Code</th>\n",
       "      <th>Product or Service Description</th>\n",
       "      <th>Principal Place of Performance Country Code</th>\n",
       "      <th>Base and Exercised Options Value</th>\n",
       "      <th>Action Obligation</th>\n",
       "      <th>Base and All Options Value (Total Contract Value)</th>\n",
       "      <th>cluster id</th>\n",
       "      <th>confidence</th>\n",
       "    </tr>\n",
       "  </thead>\n",
       "  <tbody>\n",
       "    <tr>\n",
       "      <td>0</td>\n",
       "      <td>191d3220c0016</td>\n",
       "      <td>08/04/20</td>\n",
       "      <td>08/04/20</td>\n",
       "      <td>ea</td>\n",
       "      <td>0</td>\n",
       "      <td>08/04/20</td>\n",
       "      <td>19xeap</td>\n",
       "      <td>indonesia</td>\n",
       "      <td>miscellaneous foreign awardees</td>\n",
       "      <td>None</td>\n",
       "      <td>...</td>\n",
       "      <td>236118</td>\n",
       "      <td>residential remodelers</td>\n",
       "      <td>z2fz</td>\n",
       "      <td>repair or alteration of other residential buil...</td>\n",
       "      <td>idn</td>\n",
       "      <td>10,257.11</td>\n",
       "      <td>10,257.11</td>\n",
       "      <td>10,257.11</td>\n",
       "      <td>111</td>\n",
       "      <td>1.000000</td>\n",
       "    </tr>\n",
       "    <tr>\n",
       "      <td>1</td>\n",
       "      <td>191d3220p1723</td>\n",
       "      <td>8/18/20</td>\n",
       "      <td>8/18/20</td>\n",
       "      <td>ea</td>\n",
       "      <td>0</td>\n",
       "      <td>8/18/20</td>\n",
       "      <td>19xds0</td>\n",
       "      <td>united states</td>\n",
       "      <td>stateside procurement services, inc.</td>\n",
       "      <td>None</td>\n",
       "      <td>...</td>\n",
       "      <td>332999</td>\n",
       "      <td>all other miscellaneous fabricated metal produ...</td>\n",
       "      <td>7810</td>\n",
       "      <td>athletic and sporting equipment</td>\n",
       "      <td>usa</td>\n",
       "      <td>11,068.00</td>\n",
       "      <td>11,068.00</td>\n",
       "      <td>11,068.00</td>\n",
       "      <td>112</td>\n",
       "      <td>1.000000</td>\n",
       "    </tr>\n",
       "    <tr>\n",
       "      <td>2</td>\n",
       "      <td>191d8020p0224</td>\n",
       "      <td>8/13/20</td>\n",
       "      <td>8/13/20</td>\n",
       "      <td>ea</td>\n",
       "      <td>0</td>\n",
       "      <td>8/13/20</td>\n",
       "      <td>19xeap</td>\n",
       "      <td>indonesia</td>\n",
       "      <td>miscellaneous foreign awardees</td>\n",
       "      <td>None</td>\n",
       "      <td>...</td>\n",
       "      <td>443142</td>\n",
       "      <td>electronics stores</td>\n",
       "      <td>6240</td>\n",
       "      <td>electric lamps</td>\n",
       "      <td>idn</td>\n",
       "      <td>10,400.13</td>\n",
       "      <td>10,400.13</td>\n",
       "      <td>10,400.13</td>\n",
       "      <td>113</td>\n",
       "      <td>1.000000</td>\n",
       "    </tr>\n",
       "    <tr>\n",
       "      <td>3</td>\n",
       "      <td>191n2918p0127</td>\n",
       "      <td>02/02/18</td>\n",
       "      <td>02/02/18</td>\n",
       "      <td>sc</td>\n",
       "      <td>0</td>\n",
       "      <td>02/02/18</td>\n",
       "      <td>19xsca</td>\n",
       "      <td>india</td>\n",
       "      <td>miscellaneous foreign awardees</td>\n",
       "      <td>None</td>\n",
       "      <td>...</td>\n",
       "      <td>492110</td>\n",
       "      <td>couriers and express delivery services</td>\n",
       "      <td>r602</td>\n",
       "      <td>support- administrative: courier/messenger</td>\n",
       "      <td>ind</td>\n",
       "      <td>3,852.68</td>\n",
       "      <td>3,852.68</td>\n",
       "      <td>3,852.68</td>\n",
       "      <td>114</td>\n",
       "      <td>1.000000</td>\n",
       "    </tr>\n",
       "    <tr>\n",
       "      <td>4</td>\n",
       "      <td>191n2918p0127</td>\n",
       "      <td>2/28/18</td>\n",
       "      <td>2/28/18</td>\n",
       "      <td>sc</td>\n",
       "      <td>1</td>\n",
       "      <td>2/28/18</td>\n",
       "      <td>19xsca</td>\n",
       "      <td>india</td>\n",
       "      <td>miscellaneous foreign awardees</td>\n",
       "      <td>None</td>\n",
       "      <td>...</td>\n",
       "      <td>492110</td>\n",
       "      <td>couriers and express delivery services</td>\n",
       "      <td>r602</td>\n",
       "      <td>support- administrative: courier/messenger</td>\n",
       "      <td>ind</td>\n",
       "      <td>0.00</td>\n",
       "      <td>0.00</td>\n",
       "      <td>0.00</td>\n",
       "      <td>0</td>\n",
       "      <td>0.919564</td>\n",
       "    </tr>\n",
       "    <tr>\n",
       "      <td>...</td>\n",
       "      <td>...</td>\n",
       "      <td>...</td>\n",
       "      <td>...</td>\n",
       "      <td>...</td>\n",
       "      <td>...</td>\n",
       "      <td>...</td>\n",
       "      <td>...</td>\n",
       "      <td>...</td>\n",
       "      <td>...</td>\n",
       "      <td>...</td>\n",
       "      <td>...</td>\n",
       "      <td>...</td>\n",
       "      <td>...</td>\n",
       "      <td>...</td>\n",
       "      <td>...</td>\n",
       "      <td>...</td>\n",
       "      <td>...</td>\n",
       "      <td>...</td>\n",
       "      <td>...</td>\n",
       "      <td>...</td>\n",
       "      <td>...</td>\n",
       "    </tr>\n",
       "    <tr>\n",
       "      <td>550</td>\n",
       "      <td>sin29217m0704</td>\n",
       "      <td>9/29/17</td>\n",
       "      <td>9/29/17</td>\n",
       "      <td>sc</td>\n",
       "      <td>0</td>\n",
       "      <td>9/29/17</td>\n",
       "      <td>19xsca</td>\n",
       "      <td>india</td>\n",
       "      <td>miscellaneous foreign awardees</td>\n",
       "      <td>None</td>\n",
       "      <td>...</td>\n",
       "      <td>561710</td>\n",
       "      <td>exterminating and pest control services</td>\n",
       "      <td>6840</td>\n",
       "      <td>pest control agents and disinfectants</td>\n",
       "      <td>ind</td>\n",
       "      <td>5,741.89</td>\n",
       "      <td>5,741.89</td>\n",
       "      <td>5,741.89</td>\n",
       "      <td>289</td>\n",
       "      <td>1.000000</td>\n",
       "    </tr>\n",
       "    <tr>\n",
       "      <td>551</td>\n",
       "      <td>sin29217v0213</td>\n",
       "      <td>09/05/17</td>\n",
       "      <td>09/05/17</td>\n",
       "      <td>sc</td>\n",
       "      <td>0</td>\n",
       "      <td>09/05/17</td>\n",
       "      <td>19xsca</td>\n",
       "      <td>india</td>\n",
       "      <td>apple inc.</td>\n",
       "      <td>None</td>\n",
       "      <td>...</td>\n",
       "      <td>334210</td>\n",
       "      <td>telephone apparatus manufacturing</td>\n",
       "      <td>5805</td>\n",
       "      <td>telephone and telegraph equipment</td>\n",
       "      <td>ind</td>\n",
       "      <td>9,600.00</td>\n",
       "      <td>9,600.00</td>\n",
       "      <td>9,600.00</td>\n",
       "      <td>290</td>\n",
       "      <td>1.000000</td>\n",
       "    </tr>\n",
       "    <tr>\n",
       "      <td>552</td>\n",
       "      <td>ssf75016m0381</td>\n",
       "      <td>03/07/16</td>\n",
       "      <td>03/07/16</td>\n",
       "      <td>af</td>\n",
       "      <td>0</td>\n",
       "      <td>03/07/16</td>\n",
       "      <td>af</td>\n",
       "      <td>south africa</td>\n",
       "      <td>miscellaneous foreign awardees</td>\n",
       "      <td>None</td>\n",
       "      <td>...</td>\n",
       "      <td>517210</td>\n",
       "      <td>wireless telecommunications carriers (except s...</td>\n",
       "      <td>d304</td>\n",
       "      <td>it and telecom- telecommunications and transmi...</td>\n",
       "      <td>zaf</td>\n",
       "      <td>4,320.55</td>\n",
       "      <td>4,320.55</td>\n",
       "      <td>4,320.55</td>\n",
       "      <td>110</td>\n",
       "      <td>0.919564</td>\n",
       "    </tr>\n",
       "    <tr>\n",
       "      <td>553</td>\n",
       "      <td>ssf75016m0381</td>\n",
       "      <td>03/07/17</td>\n",
       "      <td>03/07/17</td>\n",
       "      <td>af</td>\n",
       "      <td>1</td>\n",
       "      <td>03/07/17</td>\n",
       "      <td>19xaf0</td>\n",
       "      <td>south africa</td>\n",
       "      <td>miscellaneous foreign awardees</td>\n",
       "      <td>None</td>\n",
       "      <td>...</td>\n",
       "      <td>517210</td>\n",
       "      <td>wireless telecommunications carriers (except s...</td>\n",
       "      <td>d304</td>\n",
       "      <td>it and telecom- telecommunications and transmi...</td>\n",
       "      <td>zaf</td>\n",
       "      <td>868.62</td>\n",
       "      <td>868.62</td>\n",
       "      <td>868.62</td>\n",
       "      <td>110</td>\n",
       "      <td>0.919564</td>\n",
       "    </tr>\n",
       "    <tr>\n",
       "      <td>554</td>\n",
       "      <td>ssf75016m0381</td>\n",
       "      <td>8/24/20</td>\n",
       "      <td>8/24/20</td>\n",
       "      <td>af</td>\n",
       "      <td>m002</td>\n",
       "      <td>03/07/16</td>\n",
       "      <td>19xaf0</td>\n",
       "      <td>south africa</td>\n",
       "      <td>miscellaneous foreign awardees</td>\n",
       "      <td>None</td>\n",
       "      <td>...</td>\n",
       "      <td>517210</td>\n",
       "      <td>wireless telecommunications carriers (except s...</td>\n",
       "      <td>d304</td>\n",
       "      <td>it and telecom- telecommunications and transmi...</td>\n",
       "      <td>zaf</td>\n",
       "      <td>(656.12)</td>\n",
       "      <td>(656.12)</td>\n",
       "      <td>(656.12)</td>\n",
       "      <td>291</td>\n",
       "      <td>1.000000</td>\n",
       "    </tr>\n",
       "  </tbody>\n",
       "</table>\n",
       "<p>555 rows × 27 columns</p>\n",
       "</div>"
      ],
      "text/plain": [
       "              PIID Prepared Date Date Signed Contracting Office Region  \\\n",
       "0    191d3220c0016      08/04/20    08/04/20                        ea   \n",
       "1    191d3220p1723       8/18/20     8/18/20                        ea   \n",
       "2    191d8020p0224       8/13/20     8/13/20                        ea   \n",
       "3    191n2918p0127      02/02/18    02/02/18                        sc   \n",
       "4    191n2918p0127       2/28/18     2/28/18                        sc   \n",
       "..             ...           ...         ...                       ...   \n",
       "550  sin29217m0704       9/29/17     9/29/17                        sc   \n",
       "551  sin29217v0213      09/05/17    09/05/17                        sc   \n",
       "552  ssf75016m0381      03/07/16    03/07/16                        af   \n",
       "553  ssf75016m0381      03/07/17    03/07/17                        af   \n",
       "554  ssf75016m0381       8/24/20     8/24/20                        af   \n",
       "\n",
       "    Modification Number Period of Performance Start Date Funding Office ID  \\\n",
       "0                     0                         08/04/20            19xeap   \n",
       "1                     0                          8/18/20            19xds0   \n",
       "2                     0                          8/13/20            19xeap   \n",
       "3                     0                         02/02/18            19xsca   \n",
       "4                     1                          2/28/18            19xsca   \n",
       "..                  ...                              ...               ...   \n",
       "550                   0                          9/29/17            19xsca   \n",
       "551                   0                         09/05/17            19xsca   \n",
       "552                   0                         03/07/16                af   \n",
       "553                   1                         03/07/17            19xaf0   \n",
       "554                m002                         03/07/16            19xaf0   \n",
       "\n",
       "    Principal Place of Performance Country Name  \\\n",
       "0                                     indonesia   \n",
       "1                                 united states   \n",
       "2                                     indonesia   \n",
       "3                                         india   \n",
       "4                                         india   \n",
       "..                                          ...   \n",
       "550                                       india   \n",
       "551                                       india   \n",
       "552                                south africa   \n",
       "553                                south africa   \n",
       "554                                south africa   \n",
       "\n",
       "                              Vendor Name Referenced  IDV PIID  ...  \\\n",
       "0          miscellaneous foreign awardees                 None  ...   \n",
       "1    stateside procurement services, inc.                 None  ...   \n",
       "2          miscellaneous foreign awardees                 None  ...   \n",
       "3          miscellaneous foreign awardees                 None  ...   \n",
       "4          miscellaneous foreign awardees                 None  ...   \n",
       "..                                    ...                  ...  ...   \n",
       "550        miscellaneous foreign awardees                 None  ...   \n",
       "551                            apple inc.                 None  ...   \n",
       "552        miscellaneous foreign awardees                 None  ...   \n",
       "553        miscellaneous foreign awardees                 None  ...   \n",
       "554        miscellaneous foreign awardees                 None  ...   \n",
       "\n",
       "    NAICS Code                                  NAICS Description  \\\n",
       "0       236118                             residential remodelers   \n",
       "1       332999  all other miscellaneous fabricated metal produ...   \n",
       "2       443142                                 electronics stores   \n",
       "3       492110             couriers and express delivery services   \n",
       "4       492110             couriers and express delivery services   \n",
       "..         ...                                                ...   \n",
       "550     561710            exterminating and pest control services   \n",
       "551     334210                  telephone apparatus manufacturing   \n",
       "552     517210  wireless telecommunications carriers (except s...   \n",
       "553     517210  wireless telecommunications carriers (except s...   \n",
       "554     517210  wireless telecommunications carriers (except s...   \n",
       "\n",
       "    Product or Service Code  \\\n",
       "0                      z2fz   \n",
       "1                      7810   \n",
       "2                      6240   \n",
       "3                      r602   \n",
       "4                      r602   \n",
       "..                      ...   \n",
       "550                    6840   \n",
       "551                    5805   \n",
       "552                    d304   \n",
       "553                    d304   \n",
       "554                    d304   \n",
       "\n",
       "                        Product or Service Description  \\\n",
       "0    repair or alteration of other residential buil...   \n",
       "1                      athletic and sporting equipment   \n",
       "2                                       electric lamps   \n",
       "3           support- administrative: courier/messenger   \n",
       "4           support- administrative: courier/messenger   \n",
       "..                                                 ...   \n",
       "550              pest control agents and disinfectants   \n",
       "551                  telephone and telegraph equipment   \n",
       "552  it and telecom- telecommunications and transmi...   \n",
       "553  it and telecom- telecommunications and transmi...   \n",
       "554  it and telecom- telecommunications and transmi...   \n",
       "\n",
       "    Principal Place of Performance Country Code  \\\n",
       "0                                           idn   \n",
       "1                                           usa   \n",
       "2                                           idn   \n",
       "3                                           ind   \n",
       "4                                           ind   \n",
       "..                                          ...   \n",
       "550                                         ind   \n",
       "551                                         ind   \n",
       "552                                         zaf   \n",
       "553                                         zaf   \n",
       "554                                         zaf   \n",
       "\n",
       "    Base and Exercised Options Value Action Obligation  \\\n",
       "0                          10,257.11         10,257.11   \n",
       "1                          11,068.00         11,068.00   \n",
       "2                          10,400.13         10,400.13   \n",
       "3                           3,852.68          3,852.68   \n",
       "4                               0.00              0.00   \n",
       "..                               ...               ...   \n",
       "550                         5,741.89          5,741.89   \n",
       "551                         9,600.00          9,600.00   \n",
       "552                         4,320.55          4,320.55   \n",
       "553                           868.62            868.62   \n",
       "554                         (656.12)          (656.12)   \n",
       "\n",
       "    Base and All Options Value (Total Contract Value) cluster id confidence  \n",
       "0                                           10,257.11        111   1.000000  \n",
       "1                                           11,068.00        112   1.000000  \n",
       "2                                           10,400.13        113   1.000000  \n",
       "3                                            3,852.68        114   1.000000  \n",
       "4                                                0.00          0   0.919564  \n",
       "..                                                ...        ...        ...  \n",
       "550                                          5,741.89        289   1.000000  \n",
       "551                                          9,600.00        290   1.000000  \n",
       "552                                          4,320.55        110   0.919564  \n",
       "553                                            868.62        110   0.919564  \n",
       "554                                          (656.12)        291   1.000000  \n",
       "\n",
       "[555 rows x 27 columns]"
      ]
     },
     "execution_count": 18,
     "metadata": {},
     "output_type": "execute_result"
    }
   ],
   "source": [
    "df"
   ]
  },
  {
   "cell_type": "code",
   "execution_count": 20,
   "metadata": {},
   "outputs": [],
   "source": [
    "df.to_csv('FPDS Sample Report Dedupe.csv')"
   ]
  },
  {
   "cell_type": "code",
   "execution_count": null,
   "metadata": {},
   "outputs": [],
   "source": []
  }
 ],
 "metadata": {
  "kernelspec": {
   "display_name": "Python 3",
   "language": "python",
   "name": "python3"
  },
  "language_info": {
   "codemirror_mode": {
    "name": "ipython",
    "version": 3
   },
   "file_extension": ".py",
   "mimetype": "text/x-python",
   "name": "python",
   "nbconvert_exporter": "python",
   "pygments_lexer": "ipython3",
   "version": "3.7.4"
  }
 },
 "nbformat": 4,
 "nbformat_minor": 2
}
