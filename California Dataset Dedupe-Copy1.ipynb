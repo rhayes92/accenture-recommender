{
 "cells": [
  {
   "cell_type": "code",
   "execution_count": 1,
   "metadata": {},
   "outputs": [],
   "source": [
    "import pandas as pd\n",
    "import pandas_dedupe"
   ]
  },
  {
   "cell_type": "code",
   "execution_count": 2,
   "metadata": {},
   "outputs": [],
   "source": [
    "df = pd.read_csv('/Users/praveenreddy/Desktop/CA dataset.csv')"
   ]
  },
  {
   "cell_type": "code",
   "execution_count": 3,
   "metadata": {},
   "outputs": [
    {
     "data": {
      "text/html": [
       "<div>\n",
       "<style scoped>\n",
       "    .dataframe tbody tr th:only-of-type {\n",
       "        vertical-align: middle;\n",
       "    }\n",
       "\n",
       "    .dataframe tbody tr th {\n",
       "        vertical-align: top;\n",
       "    }\n",
       "\n",
       "    .dataframe thead th {\n",
       "        text-align: right;\n",
       "    }\n",
       "</style>\n",
       "<table border=\"1\" class=\"dataframe\">\n",
       "  <thead>\n",
       "    <tr style=\"text-align: right;\">\n",
       "      <th></th>\n",
       "      <th>Creation Date</th>\n",
       "      <th>Purchase Date</th>\n",
       "      <th>Fiscal Year</th>\n",
       "      <th>LPA Number</th>\n",
       "      <th>Purchase Order Number</th>\n",
       "      <th>Requisition Number</th>\n",
       "      <th>Acquisition Type</th>\n",
       "      <th>Sub-Acquisition Type</th>\n",
       "      <th>Acquisition Method</th>\n",
       "      <th>Sub-Acquisition Method</th>\n",
       "      <th>...</th>\n",
       "      <th>Normalized UNSPSC</th>\n",
       "      <th>Commodity Title</th>\n",
       "      <th>Class</th>\n",
       "      <th>Class Title</th>\n",
       "      <th>Family</th>\n",
       "      <th>Family Title</th>\n",
       "      <th>Segment</th>\n",
       "      <th>Segment Title</th>\n",
       "      <th>Location</th>\n",
       "      <th>REMOVE AMERISOURCE</th>\n",
       "    </tr>\n",
       "  </thead>\n",
       "  <tbody>\n",
       "    <tr>\n",
       "      <td>0</td>\n",
       "      <td>8/27/2013</td>\n",
       "      <td>NaN</td>\n",
       "      <td>2013-2014</td>\n",
       "      <td>7-12-70-26</td>\n",
       "      <td>REQ0011118</td>\n",
       "      <td>REQ0011118</td>\n",
       "      <td>IT Goods</td>\n",
       "      <td>NaN</td>\n",
       "      <td>WSCA/Coop</td>\n",
       "      <td>NaN</td>\n",
       "      <td>...</td>\n",
       "      <td>NaN</td>\n",
       "      <td>NaN</td>\n",
       "      <td>NaN</td>\n",
       "      <td>NaN</td>\n",
       "      <td>NaN</td>\n",
       "      <td>NaN</td>\n",
       "      <td>NaN</td>\n",
       "      <td>NaN</td>\n",
       "      <td>NaN</td>\n",
       "      <td>NaN</td>\n",
       "    </tr>\n",
       "    <tr>\n",
       "      <td>1</td>\n",
       "      <td>1/29/2014</td>\n",
       "      <td>NaN</td>\n",
       "      <td>2013-2014</td>\n",
       "      <td>NaN</td>\n",
       "      <td>REQ0011932</td>\n",
       "      <td>REQ0011932</td>\n",
       "      <td>NON-IT Goods</td>\n",
       "      <td>NaN</td>\n",
       "      <td>Informal Competitive</td>\n",
       "      <td>NaN</td>\n",
       "      <td>...</td>\n",
       "      <td>76121504.0</td>\n",
       "      <td>NaN</td>\n",
       "      <td>NaN</td>\n",
       "      <td>NaN</td>\n",
       "      <td>NaN</td>\n",
       "      <td>NaN</td>\n",
       "      <td>NaN</td>\n",
       "      <td>NaN</td>\n",
       "      <td>NaN</td>\n",
       "      <td>NaN</td>\n",
       "    </tr>\n",
       "    <tr>\n",
       "      <td>2</td>\n",
       "      <td>11/01/13</td>\n",
       "      <td>NaN</td>\n",
       "      <td>2013-2014</td>\n",
       "      <td>NaN</td>\n",
       "      <td>REQ0011476</td>\n",
       "      <td>REQ0011476</td>\n",
       "      <td>IT Services</td>\n",
       "      <td>NaN</td>\n",
       "      <td>Informal Competitive</td>\n",
       "      <td>NaN</td>\n",
       "      <td>...</td>\n",
       "      <td>NaN</td>\n",
       "      <td>NaN</td>\n",
       "      <td>NaN</td>\n",
       "      <td>NaN</td>\n",
       "      <td>NaN</td>\n",
       "      <td>NaN</td>\n",
       "      <td>NaN</td>\n",
       "      <td>NaN</td>\n",
       "      <td>95841\\n(38.662263, -121.346136)</td>\n",
       "      <td>NaN</td>\n",
       "    </tr>\n",
       "    <tr>\n",
       "      <td>3</td>\n",
       "      <td>6/13/2014</td>\n",
       "      <td>06/05/14</td>\n",
       "      <td>2013-2014</td>\n",
       "      <td>NaN</td>\n",
       "      <td>4500236642</td>\n",
       "      <td>NaN</td>\n",
       "      <td>NON-IT Goods</td>\n",
       "      <td>NaN</td>\n",
       "      <td>Informal Competitive</td>\n",
       "      <td>NaN</td>\n",
       "      <td>...</td>\n",
       "      <td>NaN</td>\n",
       "      <td>NaN</td>\n",
       "      <td>NaN</td>\n",
       "      <td>NaN</td>\n",
       "      <td>NaN</td>\n",
       "      <td>NaN</td>\n",
       "      <td>NaN</td>\n",
       "      <td>NaN</td>\n",
       "      <td>91436\\n(34.151642, -118.49051)</td>\n",
       "      <td>NaN</td>\n",
       "    </tr>\n",
       "    <tr>\n",
       "      <td>4</td>\n",
       "      <td>03/12/14</td>\n",
       "      <td>03/12/14</td>\n",
       "      <td>2013-2014</td>\n",
       "      <td>1-10-75-60A</td>\n",
       "      <td>4500221028</td>\n",
       "      <td>NaN</td>\n",
       "      <td>NON-IT Goods</td>\n",
       "      <td>NaN</td>\n",
       "      <td>Statewide Contract</td>\n",
       "      <td>NaN</td>\n",
       "      <td>...</td>\n",
       "      <td>44103127.0</td>\n",
       "      <td>NaN</td>\n",
       "      <td>NaN</td>\n",
       "      <td>NaN</td>\n",
       "      <td>NaN</td>\n",
       "      <td>NaN</td>\n",
       "      <td>NaN</td>\n",
       "      <td>NaN</td>\n",
       "      <td>95814\\n(38.580427, -121.494396)</td>\n",
       "      <td>NaN</td>\n",
       "    </tr>\n",
       "    <tr>\n",
       "      <td>...</td>\n",
       "      <td>...</td>\n",
       "      <td>...</td>\n",
       "      <td>...</td>\n",
       "      <td>...</td>\n",
       "      <td>...</td>\n",
       "      <td>...</td>\n",
       "      <td>...</td>\n",
       "      <td>...</td>\n",
       "      <td>...</td>\n",
       "      <td>...</td>\n",
       "      <td>...</td>\n",
       "      <td>...</td>\n",
       "      <td>...</td>\n",
       "      <td>...</td>\n",
       "      <td>...</td>\n",
       "      <td>...</td>\n",
       "      <td>...</td>\n",
       "      <td>...</td>\n",
       "      <td>...</td>\n",
       "      <td>...</td>\n",
       "      <td>...</td>\n",
       "    </tr>\n",
       "    <tr>\n",
       "      <td>344499</td>\n",
       "      <td>11/03/14</td>\n",
       "      <td>9/25/2014</td>\n",
       "      <td>2014-2015</td>\n",
       "      <td>NaN</td>\n",
       "      <td>4500252536</td>\n",
       "      <td>NaN</td>\n",
       "      <td>NON-IT Goods</td>\n",
       "      <td>NaN</td>\n",
       "      <td>Informal Competitive</td>\n",
       "      <td>NaN</td>\n",
       "      <td>...</td>\n",
       "      <td>93131608.0</td>\n",
       "      <td>Food supply services</td>\n",
       "      <td>93131600.0</td>\n",
       "      <td>Food and nutrition policy planning and programs</td>\n",
       "      <td>93130000.0</td>\n",
       "      <td>Humanitarian aid and relief</td>\n",
       "      <td>93000000.0</td>\n",
       "      <td>Politics and Civic Affairs Services</td>\n",
       "      <td>95811\\n(38.581053, -121.488564)</td>\n",
       "      <td>NaN</td>\n",
       "    </tr>\n",
       "    <tr>\n",
       "      <td>344500</td>\n",
       "      <td>8/14/2014</td>\n",
       "      <td>7/20/2011</td>\n",
       "      <td>2014-2015</td>\n",
       "      <td>NaN</td>\n",
       "      <td>10A1343</td>\n",
       "      <td>NaN</td>\n",
       "      <td>NON-IT Services</td>\n",
       "      <td>Expert Witneses</td>\n",
       "      <td>Services are specifically exempt by statute</td>\n",
       "      <td>NaN</td>\n",
       "      <td>...</td>\n",
       "      <td>80121903.0</td>\n",
       "      <td>Expert witness service</td>\n",
       "      <td>80121900.0</td>\n",
       "      <td>Compensated legal participation services</td>\n",
       "      <td>80120000.0</td>\n",
       "      <td>Legal services</td>\n",
       "      <td>80000000.0</td>\n",
       "      <td>Management and Business Professionals and Admi...</td>\n",
       "      <td>95816\\n(38.57219, -121.467691)</td>\n",
       "      <td>NaN</td>\n",
       "    </tr>\n",
       "    <tr>\n",
       "      <td>344501</td>\n",
       "      <td>05/09/14</td>\n",
       "      <td>NaN</td>\n",
       "      <td>2013-2014</td>\n",
       "      <td>NaN</td>\n",
       "      <td>228</td>\n",
       "      <td>NaN</td>\n",
       "      <td>IT Goods</td>\n",
       "      <td>NaN</td>\n",
       "      <td>SB/DVBE Option</td>\n",
       "      <td>NaN</td>\n",
       "      <td>...</td>\n",
       "      <td>45111609.0</td>\n",
       "      <td>Multimedia projectors</td>\n",
       "      <td>45111600.0</td>\n",
       "      <td>Projectors and supplies</td>\n",
       "      <td>45110000.0</td>\n",
       "      <td>Audio and visual presentation and composing eq...</td>\n",
       "      <td>45000000.0</td>\n",
       "      <td>Printing and Photographic and Audio and Visual...</td>\n",
       "      <td>95829\\n(38.474725, -121.340819)</td>\n",
       "      <td>NaN</td>\n",
       "    </tr>\n",
       "    <tr>\n",
       "      <td>344502</td>\n",
       "      <td>1/14/2014</td>\n",
       "      <td>1/14/2014</td>\n",
       "      <td>2013-2014</td>\n",
       "      <td>NaN</td>\n",
       "      <td>P1300614</td>\n",
       "      <td>NaN</td>\n",
       "      <td>NON-IT Goods</td>\n",
       "      <td>NaN</td>\n",
       "      <td>Fair and Reasonable</td>\n",
       "      <td>NaN</td>\n",
       "      <td>...</td>\n",
       "      <td>27112718.0</td>\n",
       "      <td>Engravers</td>\n",
       "      <td>27112700.0</td>\n",
       "      <td>Power tools</td>\n",
       "      <td>27110000.0</td>\n",
       "      <td>Hand tools</td>\n",
       "      <td>27000000.0</td>\n",
       "      <td>Tools and General Machinery</td>\n",
       "      <td>95630\\n(38.670213, -121.147592)</td>\n",
       "      <td>NaN</td>\n",
       "    </tr>\n",
       "    <tr>\n",
       "      <td>344503</td>\n",
       "      <td>10/09/13</td>\n",
       "      <td>09/09/13</td>\n",
       "      <td>2013-2014</td>\n",
       "      <td>NaN</td>\n",
       "      <td>2ui3L262</td>\n",
       "      <td>NaN</td>\n",
       "      <td>NON-IT Services</td>\n",
       "      <td>Contracts with Local Governments</td>\n",
       "      <td>Emergency Purchase</td>\n",
       "      <td>NaN</td>\n",
       "      <td>...</td>\n",
       "      <td>76122405.0</td>\n",
       "      <td>Labor fee</td>\n",
       "      <td>76122400.0</td>\n",
       "      <td>Refuse disposal and treatment fees</td>\n",
       "      <td>76120000.0</td>\n",
       "      <td>Refuse disposal and treatment</td>\n",
       "      <td>76000000.0</td>\n",
       "      <td>Industrial Cleaning Services</td>\n",
       "      <td>96007\\n(40.456408, -122.315294)</td>\n",
       "      <td>NaN</td>\n",
       "    </tr>\n",
       "  </tbody>\n",
       "</table>\n",
       "<p>344504 rows × 32 columns</p>\n",
       "</div>"
      ],
      "text/plain": [
       "       Creation Date Purchase Date Fiscal Year   LPA Number  \\\n",
       "0          8/27/2013           NaN   2013-2014   7-12-70-26   \n",
       "1          1/29/2014           NaN   2013-2014          NaN   \n",
       "2           11/01/13           NaN   2013-2014          NaN   \n",
       "3          6/13/2014      06/05/14   2013-2014          NaN   \n",
       "4           03/12/14      03/12/14   2013-2014  1-10-75-60A   \n",
       "...              ...           ...         ...          ...   \n",
       "344499      11/03/14     9/25/2014   2014-2015          NaN   \n",
       "344500     8/14/2014     7/20/2011   2014-2015          NaN   \n",
       "344501      05/09/14           NaN   2013-2014          NaN   \n",
       "344502     1/14/2014     1/14/2014   2013-2014          NaN   \n",
       "344503      10/09/13      09/09/13   2013-2014          NaN   \n",
       "\n",
       "       Purchase Order Number Requisition Number Acquisition Type  \\\n",
       "0                 REQ0011118         REQ0011118         IT Goods   \n",
       "1                 REQ0011932         REQ0011932     NON-IT Goods   \n",
       "2                 REQ0011476         REQ0011476      IT Services   \n",
       "3                 4500236642                NaN     NON-IT Goods   \n",
       "4                 4500221028                NaN     NON-IT Goods   \n",
       "...                      ...                ...              ...   \n",
       "344499            4500252536                NaN     NON-IT Goods   \n",
       "344500               10A1343                NaN  NON-IT Services   \n",
       "344501                   228                NaN         IT Goods   \n",
       "344502              P1300614                NaN     NON-IT Goods   \n",
       "344503              2ui3L262                NaN  NON-IT Services   \n",
       "\n",
       "                    Sub-Acquisition Type  \\\n",
       "0                                    NaN   \n",
       "1                                    NaN   \n",
       "2                                    NaN   \n",
       "3                                    NaN   \n",
       "4                                    NaN   \n",
       "...                                  ...   \n",
       "344499                               NaN   \n",
       "344500                   Expert Witneses   \n",
       "344501                               NaN   \n",
       "344502                               NaN   \n",
       "344503  Contracts with Local Governments   \n",
       "\n",
       "                                 Acquisition Method Sub-Acquisition Method  \\\n",
       "0                                         WSCA/Coop                    NaN   \n",
       "1                              Informal Competitive                    NaN   \n",
       "2                              Informal Competitive                    NaN   \n",
       "3                              Informal Competitive                    NaN   \n",
       "4                                Statewide Contract                    NaN   \n",
       "...                                             ...                    ...   \n",
       "344499                         Informal Competitive                    NaN   \n",
       "344500  Services are specifically exempt by statute                    NaN   \n",
       "344501                               SB/DVBE Option                    NaN   \n",
       "344502                          Fair and Reasonable                    NaN   \n",
       "344503                           Emergency Purchase                    NaN   \n",
       "\n",
       "        ... Normalized UNSPSC         Commodity Title       Class  \\\n",
       "0       ...               NaN                     NaN         NaN   \n",
       "1       ...        76121504.0                     NaN         NaN   \n",
       "2       ...               NaN                     NaN         NaN   \n",
       "3       ...               NaN                     NaN         NaN   \n",
       "4       ...        44103127.0                     NaN         NaN   \n",
       "...     ...               ...                     ...         ...   \n",
       "344499  ...        93131608.0    Food supply services  93131600.0   \n",
       "344500  ...        80121903.0  Expert witness service  80121900.0   \n",
       "344501  ...        45111609.0   Multimedia projectors  45111600.0   \n",
       "344502  ...        27112718.0               Engravers  27112700.0   \n",
       "344503  ...        76122405.0               Labor fee  76122400.0   \n",
       "\n",
       "                                            Class Title      Family  \\\n",
       "0                                                   NaN         NaN   \n",
       "1                                                   NaN         NaN   \n",
       "2                                                   NaN         NaN   \n",
       "3                                                   NaN         NaN   \n",
       "4                                                   NaN         NaN   \n",
       "...                                                 ...         ...   \n",
       "344499  Food and nutrition policy planning and programs  93130000.0   \n",
       "344500         Compensated legal participation services  80120000.0   \n",
       "344501                          Projectors and supplies  45110000.0   \n",
       "344502                                      Power tools  27110000.0   \n",
       "344503               Refuse disposal and treatment fees  76120000.0   \n",
       "\n",
       "                                             Family Title     Segment  \\\n",
       "0                                                     NaN         NaN   \n",
       "1                                                     NaN         NaN   \n",
       "2                                                     NaN         NaN   \n",
       "3                                                     NaN         NaN   \n",
       "4                                                     NaN         NaN   \n",
       "...                                                   ...         ...   \n",
       "344499                        Humanitarian aid and relief  93000000.0   \n",
       "344500                                     Legal services  80000000.0   \n",
       "344501  Audio and visual presentation and composing eq...  45000000.0   \n",
       "344502                                         Hand tools  27000000.0   \n",
       "344503                      Refuse disposal and treatment  76000000.0   \n",
       "\n",
       "                                            Segment Title  \\\n",
       "0                                                     NaN   \n",
       "1                                                     NaN   \n",
       "2                                                     NaN   \n",
       "3                                                     NaN   \n",
       "4                                                     NaN   \n",
       "...                                                   ...   \n",
       "344499                Politics and Civic Affairs Services   \n",
       "344500  Management and Business Professionals and Admi...   \n",
       "344501  Printing and Photographic and Audio and Visual...   \n",
       "344502                        Tools and General Machinery   \n",
       "344503                       Industrial Cleaning Services   \n",
       "\n",
       "                               Location REMOVE AMERISOURCE  \n",
       "0                                   NaN                NaN  \n",
       "1                                   NaN                NaN  \n",
       "2       95841\\n(38.662263, -121.346136)                NaN  \n",
       "3        91436\\n(34.151642, -118.49051)                NaN  \n",
       "4       95814\\n(38.580427, -121.494396)                NaN  \n",
       "...                                 ...                ...  \n",
       "344499  95811\\n(38.581053, -121.488564)                NaN  \n",
       "344500   95816\\n(38.57219, -121.467691)                NaN  \n",
       "344501  95829\\n(38.474725, -121.340819)                NaN  \n",
       "344502  95630\\n(38.670213, -121.147592)                NaN  \n",
       "344503  96007\\n(40.456408, -122.315294)                NaN  \n",
       "\n",
       "[344504 rows x 32 columns]"
      ]
     },
     "execution_count": 3,
     "metadata": {},
     "output_type": "execute_result"
    }
   ],
   "source": [
    "df"
   ]
  },
  {
   "cell_type": "code",
   "execution_count": 4,
   "metadata": {},
   "outputs": [
    {
     "name": "stdout",
     "output_type": "stream",
     "text": [
      "Importing data ...\n",
      "Starting active labeling...\n"
     ]
    },
    {
     "name": "stderr",
     "output_type": "stream",
     "text": [
      "Item Description : None\n",
      "\n",
      "Item Description : notebooks\n",
      "\n",
      "0/10 positive, 0/10 negative\n",
      "Do these records refer to the same thing?\n",
      "(y)es / (n)o / (u)nsure / (f)inished\n"
     ]
    },
    {
     "name": "stdout",
     "output_type": "stream",
     "text": [
      "n\n"
     ]
    },
    {
     "name": "stderr",
     "output_type": "stream",
     "text": [
      "Item Description : copier maintenance renewal\n",
      "\n",
      "Item Description : None\n",
      "\n",
      "0/10 positive, 1/10 negative\n",
      "Do these records refer to the same thing?\n",
      "(y)es / (n)o / (u)nsure / (f)inished / (p)revious\n"
     ]
    },
    {
     "name": "stdout",
     "output_type": "stream",
     "text": [
      "n\n"
     ]
    },
    {
     "name": "stderr",
     "output_type": "stream",
     "text": [
      "Item Description : medical training\n",
      "\n",
      "Item Description : None\n",
      "\n",
      "0/10 positive, 2/10 negative\n",
      "Do these records refer to the same thing?\n",
      "(y)es / (n)o / (u)nsure / (f)inished / (p)revious\n"
     ]
    },
    {
     "name": "stdout",
     "output_type": "stream",
     "text": [
      "n\n"
     ]
    },
    {
     "name": "stderr",
     "output_type": "stream",
     "text": [
      "Item Description : fuel for equip. 07s650\n",
      "\n",
      "Item Description : tn-650 toner cartridge\n",
      "\n",
      "0/10 positive, 3/10 negative\n",
      "Do these records refer to the same thing?\n",
      "(y)es / (n)o / (u)nsure / (f)inished / (p)revious\n"
     ]
    },
    {
     "name": "stdout",
     "output_type": "stream",
     "text": [
      "n\n"
     ]
    },
    {
     "name": "stderr",
     "output_type": "stream",
     "text": [
      "Item Description : medical supplies\n",
      "\n",
      "Item Description : appointment book\n",
      "\n",
      "0/10 positive, 4/10 negative\n",
      "Do these records refer to the same thing?\n",
      "(y)es / (n)o / (u)nsure / (f)inished / (p)revious\n"
     ]
    },
    {
     "name": "stdout",
     "output_type": "stream",
     "text": [
      "n\n"
     ]
    },
    {
     "name": "stderr",
     "output_type": "stream",
     "text": [
      "Item Description : hp scanner\n",
      "\n",
      "Item Description : None\n",
      "\n",
      "0/10 positive, 5/10 negative\n",
      "Do these records refer to the same thing?\n",
      "(y)es / (n)o / (u)nsure / (f)inished / (p)revious\n"
     ]
    },
    {
     "name": "stdout",
     "output_type": "stream",
     "text": [
      "n\n"
     ]
    },
    {
     "name": "stderr",
     "output_type": "stream",
     "text": [
      "Item Description : None\n",
      "\n",
      "Item Description : medical vocational training\n",
      "\n",
      "0/10 positive, 6/10 negative\n",
      "Do these records refer to the same thing?\n",
      "(y)es / (n)o / (u)nsure / (f)inished / (p)revious\n"
     ]
    },
    {
     "name": "stdout",
     "output_type": "stream",
     "text": [
      "n\n"
     ]
    },
    {
     "name": "stderr",
     "output_type": "stream",
     "text": [
      "Item Description : fuel for equip. 44r031\n",
      "\n",
      "Item Description : fuel for equip. 44r031\n",
      "\n",
      "0/10 positive, 7/10 negative\n",
      "Do these records refer to the same thing?\n",
      "(y)es / (n)o / (u)nsure / (f)inished / (p)revious\n"
     ]
    },
    {
     "name": "stdout",
     "output_type": "stream",
     "text": [
      "y\n"
     ]
    },
    {
     "name": "stderr",
     "output_type": "stream",
     "text": [
      "Item Description : fuel for equip. 14r347\n",
      "\n",
      "Item Description : fuel for equip. 14r347\n",
      "\n",
      "1/10 positive, 7/10 negative\n",
      "Do these records refer to the same thing?\n",
      "(y)es / (n)o / (u)nsure / (f)inished / (p)revious\n"
     ]
    },
    {
     "name": "stdout",
     "output_type": "stream",
     "text": [
      "y\n"
     ]
    },
    {
     "name": "stderr",
     "output_type": "stream",
     "text": [
      "Item Description : fuel for equip. 05s041\n",
      "\n",
      "Item Description : fuel for equip. 05s041\n",
      "\n",
      "2/10 positive, 7/10 negative\n",
      "Do these records refer to the same thing?\n",
      "(y)es / (n)o / (u)nsure / (f)inished / (p)revious\n"
     ]
    },
    {
     "name": "stdout",
     "output_type": "stream",
     "text": [
      "y\n"
     ]
    },
    {
     "name": "stderr",
     "output_type": "stream",
     "text": [
      "Item Description : demolish old administration building\n",
      "\n",
      "Item Description : None\n",
      "\n",
      "3/10 positive, 7/10 negative\n",
      "Do these records refer to the same thing?\n",
      "(y)es / (n)o / (u)nsure / (f)inished / (p)revious\n"
     ]
    },
    {
     "name": "stdout",
     "output_type": "stream",
     "text": [
      "n\n"
     ]
    },
    {
     "name": "stderr",
     "output_type": "stream",
     "text": [
      "Item Description : None\n",
      "\n",
      "Item Description : copier maintenance - 2 copiers\n",
      "\n",
      "3/10 positive, 8/10 negative\n",
      "Do these records refer to the same thing?\n",
      "(y)es / (n)o / (u)nsure / (f)inished / (p)revious\n"
     ]
    },
    {
     "name": "stdout",
     "output_type": "stream",
     "text": [
      "n\n"
     ]
    },
    {
     "name": "stderr",
     "output_type": "stream",
     "text": [
      "Item Description : None\n",
      "\n",
      "Item Description : fire engine personnel on going fire\n",
      "\n",
      "3/10 positive, 9/10 negative\n",
      "Do these records refer to the same thing?\n",
      "(y)es / (n)o / (u)nsure / (f)inished / (p)revious\n"
     ]
    },
    {
     "name": "stdout",
     "output_type": "stream",
     "text": [
      "n\n"
     ]
    },
    {
     "name": "stderr",
     "output_type": "stream",
     "text": [
      "Item Description : misc. for equip. 10r159\n",
      "\n",
      "Item Description : misc. for equip. 10r159\n",
      "\n",
      "3/10 positive, 10/10 negative\n",
      "Do these records refer to the same thing?\n",
      "(y)es / (n)o / (u)nsure / (f)inished / (p)revious\n"
     ]
    },
    {
     "name": "stdout",
     "output_type": "stream",
     "text": [
      "y\n"
     ]
    },
    {
     "name": "stderr",
     "output_type": "stream",
     "text": [
      "Item Description : fuel for equip. 10r045\n",
      "\n",
      "Item Description : fuel for equip. 10r045\n",
      "\n",
      "4/10 positive, 10/10 negative\n",
      "Do these records refer to the same thing?\n",
      "(y)es / (n)o / (u)nsure / (f)inished / (p)revious\n"
     ]
    },
    {
     "name": "stdout",
     "output_type": "stream",
     "text": [
      "y\n"
     ]
    },
    {
     "name": "stderr",
     "output_type": "stream",
     "text": [
      "Item Description : water tender needed for going fire calnu 005465\n",
      "\n",
      "Item Description : water tender needed for going fire calnu 005465\n",
      "\n",
      "5/10 positive, 10/10 negative\n",
      "Do these records refer to the same thing?\n",
      "(y)es / (n)o / (u)nsure / (f)inished / (p)revious\n"
     ]
    },
    {
     "name": "stdout",
     "output_type": "stream",
     "text": [
      "y\n"
     ]
    },
    {
     "name": "stderr",
     "output_type": "stream",
     "text": [
      "Item Description : fuel for equip. 14r279\n",
      "\n",
      "Item Description : fuel for equip. 14r279\n",
      "\n",
      "6/10 positive, 10/10 negative\n",
      "Do these records refer to the same thing?\n",
      "(y)es / (n)o / (u)nsure / (f)inished / (p)revious\n"
     ]
    },
    {
     "name": "stdout",
     "output_type": "stream",
     "text": [
      "y\n"
     ]
    },
    {
     "name": "stderr",
     "output_type": "stream",
     "text": [
      "Item Description : None\n",
      "\n",
      "Item Description : ip phone accessories\n",
      "\n",
      "7/10 positive, 10/10 negative\n",
      "Do these records refer to the same thing?\n",
      "(y)es / (n)o / (u)nsure / (f)inished / (p)revious\n"
     ]
    },
    {
     "name": "stdout",
     "output_type": "stream",
     "text": [
      "n\n"
     ]
    },
    {
     "name": "stderr",
     "output_type": "stream",
     "text": [
      "Item Description : self-inking stamp\n",
      "\n",
      "Item Description : None\n",
      "\n",
      "7/10 positive, 11/10 negative\n",
      "Do these records refer to the same thing?\n",
      "(y)es / (n)o / (u)nsure / (f)inished / (p)revious\n"
     ]
    },
    {
     "name": "stdout",
     "output_type": "stream",
     "text": [
      "n\n"
     ]
    },
    {
     "name": "stderr",
     "output_type": "stream",
     "text": [
      "Item Description : None\n",
      "\n",
      "Item Description : additional parking lot sweeping, venue clean-up and waste collection services at the oc fair event center beyond contract expiration to 9/30/13.\n",
      "\n",
      "7/10 positive, 12/10 negative\n",
      "Do these records refer to the same thing?\n",
      "(y)es / (n)o / (u)nsure / (f)inished / (p)revious\n"
     ]
    },
    {
     "name": "stdout",
     "output_type": "stream",
     "text": [
      "n\n"
     ]
    },
    {
     "name": "stderr",
     "output_type": "stream",
     "text": [
      "Item Description : fuel for equip. 14r209\n",
      "\n",
      "Item Description : fuel for equip. 14r209\n",
      "\n",
      "7/10 positive, 13/10 negative\n",
      "Do these records refer to the same thing?\n",
      "(y)es / (n)o / (u)nsure / (f)inished / (p)revious\n"
     ]
    },
    {
     "name": "stdout",
     "output_type": "stream",
     "text": [
      "y\n"
     ]
    },
    {
     "name": "stderr",
     "output_type": "stream",
     "text": [
      "Item Description : hp compaq 8300 elite cmt desktop\n",
      "\n",
      "Item Description : hp compaq 8300 elite cmt desktop\n",
      "\n",
      "8/10 positive, 13/10 negative\n",
      "Do these records refer to the same thing?\n",
      "(y)es / (n)o / (u)nsure / (f)inished / (p)revious\n"
     ]
    },
    {
     "name": "stdout",
     "output_type": "stream",
     "text": [
      "y\n"
     ]
    },
    {
     "name": "stderr",
     "output_type": "stream",
     "text": [
      "Item Description : ce505a\n",
      "\n",
      "Item Description : ce505a\n",
      "\n",
      "9/10 positive, 13/10 negative\n",
      "Do these records refer to the same thing?\n",
      "(y)es / (n)o / (u)nsure / (f)inished / (p)revious\n"
     ]
    },
    {
     "name": "stdout",
     "output_type": "stream",
     "text": [
      "y\n"
     ]
    },
    {
     "name": "stderr",
     "output_type": "stream",
     "text": [
      "Item Description : None\n",
      "\n",
      "Item Description : contractor shall provide rental of therapeutic bed mattress to msh for the prevention of skin breakdown for mshs patients/idviduals.\n",
      "\n",
      "10/10 positive, 13/10 negative\n",
      "Do these records refer to the same thing?\n",
      "(y)es / (n)o / (u)nsure / (f)inished / (p)revious\n"
     ]
    },
    {
     "name": "stdout",
     "output_type": "stream",
     "text": [
      "n\n"
     ]
    },
    {
     "name": "stderr",
     "output_type": "stream",
     "text": [
      "Item Description : oxygen\n",
      "\n",
      "Item Description : None\n",
      "\n",
      "10/10 positive, 14/10 negative\n",
      "Do these records refer to the same thing?\n",
      "(y)es / (n)o / (u)nsure / (f)inished / (p)revious\n"
     ]
    },
    {
     "name": "stdout",
     "output_type": "stream",
     "text": [
      "n\n"
     ]
    },
    {
     "name": "stderr",
     "output_type": "stream",
     "text": [
      "Item Description : fast wipes\n",
      "\n",
      "Item Description : None\n",
      "\n",
      "10/10 positive, 15/10 negative\n",
      "Do these records refer to the same thing?\n",
      "(y)es / (n)o / (u)nsure / (f)inished / (p)revious\n"
     ]
    },
    {
     "name": "stdout",
     "output_type": "stream",
     "text": [
      "n\n"
     ]
    },
    {
     "name": "stderr",
     "output_type": "stream",
     "text": [
      "Item Description : fuel for equip. 13r180\n",
      "\n",
      "Item Description : fuel for equip. 13r180\n",
      "\n",
      "10/10 positive, 16/10 negative\n",
      "Do these records refer to the same thing?\n",
      "(y)es / (n)o / (u)nsure / (f)inished / (p)revious\n"
     ]
    },
    {
     "name": "stdout",
     "output_type": "stream",
     "text": [
      "y\n"
     ]
    },
    {
     "name": "stderr",
     "output_type": "stream",
     "text": [
      "Item Description : tire, goodyear eagle rs-a, p245/55r18, clin 404\n",
      "\n",
      "Item Description : tire, goodyear eagle rs-a, p245/55r18, clin 404\n",
      "\n",
      "11/10 positive, 16/10 negative\n",
      "Do these records refer to the same thing?\n",
      "(y)es / (n)o / (u)nsure / (f)inished / (p)revious\n"
     ]
    },
    {
     "name": "stdout",
     "output_type": "stream",
     "text": [
      "y\n"
     ]
    },
    {
     "name": "stderr",
     "output_type": "stream",
     "text": [
      "Item Description : fuel for equip. 14r306\n",
      "\n",
      "Item Description : fuel for equip. 14r306\n",
      "\n",
      "12/10 positive, 16/10 negative\n",
      "Do these records refer to the same thing?\n",
      "(y)es / (n)o / (u)nsure / (f)inished / (p)revious\n"
     ]
    },
    {
     "name": "stdout",
     "output_type": "stream",
     "text": [
      "y\n"
     ]
    },
    {
     "name": "stderr",
     "output_type": "stream",
     "text": [
      "Item Description : fuel for equip. 48s011\n",
      "\n",
      "Item Description : fuel for equip. 48s011\n",
      "\n",
      "13/10 positive, 16/10 negative\n",
      "Do these records refer to the same thing?\n",
      "(y)es / (n)o / (u)nsure / (f)inished / (p)revious\n"
     ]
    },
    {
     "name": "stdout",
     "output_type": "stream",
     "text": [
      "y\n"
     ]
    },
    {
     "name": "stderr",
     "output_type": "stream",
     "text": [
      "Item Description : turnip\n",
      "\n",
      "Item Description : turnip\n",
      "\n",
      "14/10 positive, 16/10 negative\n",
      "Do these records refer to the same thing?\n",
      "(y)es / (n)o / (u)nsure / (f)inished / (p)revious\n"
     ]
    },
    {
     "name": "stdout",
     "output_type": "stream",
     "text": [
      "y\n"
     ]
    },
    {
     "name": "stderr",
     "output_type": "stream",
     "text": [
      "Item Description : bond paper\n",
      "\n",
      "Item Description : bond paper\n",
      "\n",
      "15/10 positive, 16/10 negative\n",
      "Do these records refer to the same thing?\n",
      "(y)es / (n)o / (u)nsure / (f)inished / (p)revious\n"
     ]
    },
    {
     "name": "stdout",
     "output_type": "stream",
     "text": [
      "y\n"
     ]
    },
    {
     "name": "stderr",
     "output_type": "stream",
     "text": [
      "Item Description : ram\n",
      "\n",
      "Item Description : ram\n",
      "\n",
      "16/10 positive, 16/10 negative\n",
      "Do these records refer to the same thing?\n",
      "(y)es / (n)o / (u)nsure / (f)inished / (p)revious\n"
     ]
    },
    {
     "name": "stdout",
     "output_type": "stream",
     "text": [
      "y\n"
     ]
    },
    {
     "name": "stderr",
     "output_type": "stream",
     "text": [
      "Item Description : pens\n",
      "\n",
      "Item Description : pens\n",
      "\n",
      "17/10 positive, 16/10 negative\n",
      "Do these records refer to the same thing?\n",
      "(y)es / (n)o / (u)nsure / (f)inished / (p)revious\n"
     ]
    },
    {
     "name": "stdout",
     "output_type": "stream",
     "text": [
      "f\n"
     ]
    },
    {
     "name": "stderr",
     "output_type": "stream",
     "text": [
      "Finished labeling\n"
     ]
    },
    {
     "name": "stdout",
     "output_type": "stream",
     "text": [
      "Clustering...\n",
      "# duplicate sets 226439\n"
     ]
    }
   ],
   "source": [
    "df = pandas_dedupe.dedupe_dataframe(df,['Item Description'])"
   ]
  },
  {
   "cell_type": "code",
   "execution_count": 5,
   "metadata": {},
   "outputs": [
    {
     "data": {
      "text/html": [
       "<div>\n",
       "<style scoped>\n",
       "    .dataframe tbody tr th:only-of-type {\n",
       "        vertical-align: middle;\n",
       "    }\n",
       "\n",
       "    .dataframe tbody tr th {\n",
       "        vertical-align: top;\n",
       "    }\n",
       "\n",
       "    .dataframe thead th {\n",
       "        text-align: right;\n",
       "    }\n",
       "</style>\n",
       "<table border=\"1\" class=\"dataframe\">\n",
       "  <thead>\n",
       "    <tr style=\"text-align: right;\">\n",
       "      <th></th>\n",
       "      <th>Creation Date</th>\n",
       "      <th>Purchase Date</th>\n",
       "      <th>Fiscal Year</th>\n",
       "      <th>LPA Number</th>\n",
       "      <th>Purchase Order Number</th>\n",
       "      <th>Requisition Number</th>\n",
       "      <th>Acquisition Type</th>\n",
       "      <th>Sub-Acquisition Type</th>\n",
       "      <th>Acquisition Method</th>\n",
       "      <th>Sub-Acquisition Method</th>\n",
       "      <th>...</th>\n",
       "      <th>Class</th>\n",
       "      <th>Class Title</th>\n",
       "      <th>Family</th>\n",
       "      <th>Family Title</th>\n",
       "      <th>Segment</th>\n",
       "      <th>Segment Title</th>\n",
       "      <th>Location</th>\n",
       "      <th>REMOVE AMERISOURCE</th>\n",
       "      <th>cluster id</th>\n",
       "      <th>confidence</th>\n",
       "    </tr>\n",
       "  </thead>\n",
       "  <tbody>\n",
       "    <tr>\n",
       "      <td>0</td>\n",
       "      <td>8/27/2013</td>\n",
       "      <td>None</td>\n",
       "      <td>2013-2014</td>\n",
       "      <td>7-12-70-26</td>\n",
       "      <td>req0011118</td>\n",
       "      <td>req0011118</td>\n",
       "      <td>it goods</td>\n",
       "      <td>None</td>\n",
       "      <td>wsca/coop</td>\n",
       "      <td>None</td>\n",
       "      <td>...</td>\n",
       "      <td>None</td>\n",
       "      <td>None</td>\n",
       "      <td>None</td>\n",
       "      <td>None</td>\n",
       "      <td>None</td>\n",
       "      <td>None</td>\n",
       "      <td>None</td>\n",
       "      <td>None</td>\n",
       "      <td>24159</td>\n",
       "      <td>1.000000</td>\n",
       "    </tr>\n",
       "    <tr>\n",
       "      <td>1</td>\n",
       "      <td>1/29/2014</td>\n",
       "      <td>None</td>\n",
       "      <td>2013-2014</td>\n",
       "      <td>None</td>\n",
       "      <td>req0011932</td>\n",
       "      <td>req0011932</td>\n",
       "      <td>non-it goods</td>\n",
       "      <td>None</td>\n",
       "      <td>informal competitive</td>\n",
       "      <td>None</td>\n",
       "      <td>...</td>\n",
       "      <td>None</td>\n",
       "      <td>None</td>\n",
       "      <td>None</td>\n",
       "      <td>None</td>\n",
       "      <td>None</td>\n",
       "      <td>None</td>\n",
       "      <td>None</td>\n",
       "      <td>None</td>\n",
       "      <td>0</td>\n",
       "      <td>0.517682</td>\n",
       "    </tr>\n",
       "    <tr>\n",
       "      <td>2</td>\n",
       "      <td>11/01/13</td>\n",
       "      <td>None</td>\n",
       "      <td>2013-2014</td>\n",
       "      <td>None</td>\n",
       "      <td>req0011476</td>\n",
       "      <td>req0011476</td>\n",
       "      <td>it services</td>\n",
       "      <td>None</td>\n",
       "      <td>informal competitive</td>\n",
       "      <td>None</td>\n",
       "      <td>...</td>\n",
       "      <td>None</td>\n",
       "      <td>None</td>\n",
       "      <td>None</td>\n",
       "      <td>None</td>\n",
       "      <td>None</td>\n",
       "      <td>None</td>\n",
       "      <td>95841 (38.662263, -121.346136)</td>\n",
       "      <td>None</td>\n",
       "      <td>24160</td>\n",
       "      <td>1.000000</td>\n",
       "    </tr>\n",
       "    <tr>\n",
       "      <td>3</td>\n",
       "      <td>6/13/2014</td>\n",
       "      <td>06/05/14</td>\n",
       "      <td>2013-2014</td>\n",
       "      <td>None</td>\n",
       "      <td>4500236642</td>\n",
       "      <td>None</td>\n",
       "      <td>non-it goods</td>\n",
       "      <td>None</td>\n",
       "      <td>informal competitive</td>\n",
       "      <td>None</td>\n",
       "      <td>...</td>\n",
       "      <td>None</td>\n",
       "      <td>None</td>\n",
       "      <td>None</td>\n",
       "      <td>None</td>\n",
       "      <td>None</td>\n",
       "      <td>None</td>\n",
       "      <td>91436 (34.151642, -118.49051)</td>\n",
       "      <td>None</td>\n",
       "      <td>24161</td>\n",
       "      <td>1.000000</td>\n",
       "    </tr>\n",
       "    <tr>\n",
       "      <td>4</td>\n",
       "      <td>03/12/14</td>\n",
       "      <td>03/12/14</td>\n",
       "      <td>2013-2014</td>\n",
       "      <td>1-10-75-60a</td>\n",
       "      <td>4500221028</td>\n",
       "      <td>None</td>\n",
       "      <td>non-it goods</td>\n",
       "      <td>None</td>\n",
       "      <td>statewide contract</td>\n",
       "      <td>None</td>\n",
       "      <td>...</td>\n",
       "      <td>None</td>\n",
       "      <td>None</td>\n",
       "      <td>None</td>\n",
       "      <td>None</td>\n",
       "      <td>None</td>\n",
       "      <td>None</td>\n",
       "      <td>95814 (38.580427, -121.494396)</td>\n",
       "      <td>None</td>\n",
       "      <td>24162</td>\n",
       "      <td>1.000000</td>\n",
       "    </tr>\n",
       "    <tr>\n",
       "      <td>...</td>\n",
       "      <td>...</td>\n",
       "      <td>...</td>\n",
       "      <td>...</td>\n",
       "      <td>...</td>\n",
       "      <td>...</td>\n",
       "      <td>...</td>\n",
       "      <td>...</td>\n",
       "      <td>...</td>\n",
       "      <td>...</td>\n",
       "      <td>...</td>\n",
       "      <td>...</td>\n",
       "      <td>...</td>\n",
       "      <td>...</td>\n",
       "      <td>...</td>\n",
       "      <td>...</td>\n",
       "      <td>...</td>\n",
       "      <td>...</td>\n",
       "      <td>...</td>\n",
       "      <td>...</td>\n",
       "      <td>...</td>\n",
       "      <td>...</td>\n",
       "    </tr>\n",
       "    <tr>\n",
       "      <td>344499</td>\n",
       "      <td>11/03/14</td>\n",
       "      <td>9/25/2014</td>\n",
       "      <td>2014-2015</td>\n",
       "      <td>None</td>\n",
       "      <td>4500252536</td>\n",
       "      <td>None</td>\n",
       "      <td>non-it goods</td>\n",
       "      <td>None</td>\n",
       "      <td>informal competitive</td>\n",
       "      <td>None</td>\n",
       "      <td>...</td>\n",
       "      <td>93131600.0</td>\n",
       "      <td>food and nutrition policy planning and programs</td>\n",
       "      <td>93130000.0</td>\n",
       "      <td>humanitarian aid and relief</td>\n",
       "      <td>93000000.0</td>\n",
       "      <td>politics and civic affairs services</td>\n",
       "      <td>95811 (38.581053, -121.488564)</td>\n",
       "      <td>None</td>\n",
       "      <td>226435</td>\n",
       "      <td>1.000000</td>\n",
       "    </tr>\n",
       "    <tr>\n",
       "      <td>344500</td>\n",
       "      <td>8/14/2014</td>\n",
       "      <td>7/20/2011</td>\n",
       "      <td>2014-2015</td>\n",
       "      <td>None</td>\n",
       "      <td>10a1343</td>\n",
       "      <td>None</td>\n",
       "      <td>non-it services</td>\n",
       "      <td>expert witneses</td>\n",
       "      <td>services are specifically exempt by statute</td>\n",
       "      <td>None</td>\n",
       "      <td>...</td>\n",
       "      <td>80121900.0</td>\n",
       "      <td>compensated legal participation services</td>\n",
       "      <td>80120000.0</td>\n",
       "      <td>legal services</td>\n",
       "      <td>80000000.0</td>\n",
       "      <td>management and business professionals and admi...</td>\n",
       "      <td>95816 (38.57219, -121.467691)</td>\n",
       "      <td>None</td>\n",
       "      <td>226436</td>\n",
       "      <td>1.000000</td>\n",
       "    </tr>\n",
       "    <tr>\n",
       "      <td>344501</td>\n",
       "      <td>05/09/14</td>\n",
       "      <td>None</td>\n",
       "      <td>2013-2014</td>\n",
       "      <td>None</td>\n",
       "      <td>228</td>\n",
       "      <td>None</td>\n",
       "      <td>it goods</td>\n",
       "      <td>None</td>\n",
       "      <td>sb/dvbe option</td>\n",
       "      <td>None</td>\n",
       "      <td>...</td>\n",
       "      <td>45111600.0</td>\n",
       "      <td>projectors and supplies</td>\n",
       "      <td>45110000.0</td>\n",
       "      <td>audio and visual presentation and composing eq...</td>\n",
       "      <td>45000000.0</td>\n",
       "      <td>printing and photographic and audio and visual...</td>\n",
       "      <td>95829 (38.474725, -121.340819)</td>\n",
       "      <td>None</td>\n",
       "      <td>226437</td>\n",
       "      <td>1.000000</td>\n",
       "    </tr>\n",
       "    <tr>\n",
       "      <td>344502</td>\n",
       "      <td>1/14/2014</td>\n",
       "      <td>1/14/2014</td>\n",
       "      <td>2013-2014</td>\n",
       "      <td>None</td>\n",
       "      <td>p1300614</td>\n",
       "      <td>None</td>\n",
       "      <td>non-it goods</td>\n",
       "      <td>None</td>\n",
       "      <td>fair and reasonable</td>\n",
       "      <td>None</td>\n",
       "      <td>...</td>\n",
       "      <td>27112700.0</td>\n",
       "      <td>power tools</td>\n",
       "      <td>27110000.0</td>\n",
       "      <td>hand tools</td>\n",
       "      <td>27000000.0</td>\n",
       "      <td>tools and general machinery</td>\n",
       "      <td>95630 (38.670213, -121.147592)</td>\n",
       "      <td>None</td>\n",
       "      <td>226438</td>\n",
       "      <td>1.000000</td>\n",
       "    </tr>\n",
       "    <tr>\n",
       "      <td>344503</td>\n",
       "      <td>10/09/13</td>\n",
       "      <td>09/09/13</td>\n",
       "      <td>2013-2014</td>\n",
       "      <td>None</td>\n",
       "      <td>2ui3l262</td>\n",
       "      <td>None</td>\n",
       "      <td>non-it services</td>\n",
       "      <td>contracts with local governments</td>\n",
       "      <td>emergency purchase</td>\n",
       "      <td>None</td>\n",
       "      <td>...</td>\n",
       "      <td>76122400.0</td>\n",
       "      <td>refuse disposal and treatment fees</td>\n",
       "      <td>76120000.0</td>\n",
       "      <td>refuse disposal and treatment</td>\n",
       "      <td>76000000.0</td>\n",
       "      <td>industrial cleaning services</td>\n",
       "      <td>96007 (40.456408, -122.315294)</td>\n",
       "      <td>None</td>\n",
       "      <td>11492</td>\n",
       "      <td>0.517682</td>\n",
       "    </tr>\n",
       "  </tbody>\n",
       "</table>\n",
       "<p>344504 rows × 34 columns</p>\n",
       "</div>"
      ],
      "text/plain": [
       "       Creation Date Purchase Date Fiscal Year   LPA Number  \\\n",
       "0          8/27/2013          None   2013-2014   7-12-70-26   \n",
       "1          1/29/2014          None   2013-2014         None   \n",
       "2           11/01/13          None   2013-2014         None   \n",
       "3          6/13/2014      06/05/14   2013-2014         None   \n",
       "4           03/12/14      03/12/14   2013-2014  1-10-75-60a   \n",
       "...              ...           ...         ...          ...   \n",
       "344499      11/03/14     9/25/2014   2014-2015         None   \n",
       "344500     8/14/2014     7/20/2011   2014-2015         None   \n",
       "344501      05/09/14          None   2013-2014         None   \n",
       "344502     1/14/2014     1/14/2014   2013-2014         None   \n",
       "344503      10/09/13      09/09/13   2013-2014         None   \n",
       "\n",
       "       Purchase Order Number Requisition Number Acquisition Type  \\\n",
       "0                 req0011118         req0011118         it goods   \n",
       "1                 req0011932         req0011932     non-it goods   \n",
       "2                 req0011476         req0011476      it services   \n",
       "3                 4500236642               None     non-it goods   \n",
       "4                 4500221028               None     non-it goods   \n",
       "...                      ...                ...              ...   \n",
       "344499            4500252536               None     non-it goods   \n",
       "344500               10a1343               None  non-it services   \n",
       "344501                   228               None         it goods   \n",
       "344502              p1300614               None     non-it goods   \n",
       "344503              2ui3l262               None  non-it services   \n",
       "\n",
       "                    Sub-Acquisition Type  \\\n",
       "0                                   None   \n",
       "1                                   None   \n",
       "2                                   None   \n",
       "3                                   None   \n",
       "4                                   None   \n",
       "...                                  ...   \n",
       "344499                              None   \n",
       "344500                   expert witneses   \n",
       "344501                              None   \n",
       "344502                              None   \n",
       "344503  contracts with local governments   \n",
       "\n",
       "                                 Acquisition Method Sub-Acquisition Method  \\\n",
       "0                                         wsca/coop                   None   \n",
       "1                              informal competitive                   None   \n",
       "2                              informal competitive                   None   \n",
       "3                              informal competitive                   None   \n",
       "4                                statewide contract                   None   \n",
       "...                                             ...                    ...   \n",
       "344499                         informal competitive                   None   \n",
       "344500  services are specifically exempt by statute                   None   \n",
       "344501                               sb/dvbe option                   None   \n",
       "344502                          fair and reasonable                   None   \n",
       "344503                           emergency purchase                   None   \n",
       "\n",
       "        ...       Class                                      Class Title  \\\n",
       "0       ...        None                                             None   \n",
       "1       ...        None                                             None   \n",
       "2       ...        None                                             None   \n",
       "3       ...        None                                             None   \n",
       "4       ...        None                                             None   \n",
       "...     ...         ...                                              ...   \n",
       "344499  ...  93131600.0  food and nutrition policy planning and programs   \n",
       "344500  ...  80121900.0         compensated legal participation services   \n",
       "344501  ...  45111600.0                          projectors and supplies   \n",
       "344502  ...  27112700.0                                      power tools   \n",
       "344503  ...  76122400.0               refuse disposal and treatment fees   \n",
       "\n",
       "            Family                                       Family Title  \\\n",
       "0             None                                               None   \n",
       "1             None                                               None   \n",
       "2             None                                               None   \n",
       "3             None                                               None   \n",
       "4             None                                               None   \n",
       "...            ...                                                ...   \n",
       "344499  93130000.0                        humanitarian aid and relief   \n",
       "344500  80120000.0                                     legal services   \n",
       "344501  45110000.0  audio and visual presentation and composing eq...   \n",
       "344502  27110000.0                                         hand tools   \n",
       "344503  76120000.0                      refuse disposal and treatment   \n",
       "\n",
       "           Segment                                      Segment Title  \\\n",
       "0             None                                               None   \n",
       "1             None                                               None   \n",
       "2             None                                               None   \n",
       "3             None                                               None   \n",
       "4             None                                               None   \n",
       "...            ...                                                ...   \n",
       "344499  93000000.0                politics and civic affairs services   \n",
       "344500  80000000.0  management and business professionals and admi...   \n",
       "344501  45000000.0  printing and photographic and audio and visual...   \n",
       "344502  27000000.0                        tools and general machinery   \n",
       "344503  76000000.0                       industrial cleaning services   \n",
       "\n",
       "                              Location REMOVE AMERISOURCE cluster id  \\\n",
       "0                                 None               None      24159   \n",
       "1                                 None               None          0   \n",
       "2       95841 (38.662263, -121.346136)               None      24160   \n",
       "3        91436 (34.151642, -118.49051)               None      24161   \n",
       "4       95814 (38.580427, -121.494396)               None      24162   \n",
       "...                                ...                ...        ...   \n",
       "344499  95811 (38.581053, -121.488564)               None     226435   \n",
       "344500   95816 (38.57219, -121.467691)               None     226436   \n",
       "344501  95829 (38.474725, -121.340819)               None     226437   \n",
       "344502  95630 (38.670213, -121.147592)               None     226438   \n",
       "344503  96007 (40.456408, -122.315294)               None      11492   \n",
       "\n",
       "       confidence  \n",
       "0        1.000000  \n",
       "1        0.517682  \n",
       "2        1.000000  \n",
       "3        1.000000  \n",
       "4        1.000000  \n",
       "...           ...  \n",
       "344499   1.000000  \n",
       "344500   1.000000  \n",
       "344501   1.000000  \n",
       "344502   1.000000  \n",
       "344503   0.517682  \n",
       "\n",
       "[344504 rows x 34 columns]"
      ]
     },
     "execution_count": 5,
     "metadata": {},
     "output_type": "execute_result"
    }
   ],
   "source": [
    "df\n"
   ]
  },
  {
   "cell_type": "code",
   "execution_count": 6,
   "metadata": {},
   "outputs": [],
   "source": [
    "df.to_csv('California Dataset Dedupe.csv')"
   ]
  },
  {
   "cell_type": "code",
   "execution_count": null,
   "metadata": {},
   "outputs": [],
   "source": []
  }
 ],
 "metadata": {
  "kernelspec": {
   "display_name": "Python 3",
   "language": "python",
   "name": "python3"
  },
  "language_info": {
   "codemirror_mode": {
    "name": "ipython",
    "version": 3
   },
   "file_extension": ".py",
   "mimetype": "text/x-python",
   "name": "python",
   "nbconvert_exporter": "python",
   "pygments_lexer": "ipython3",
   "version": "3.7.4"
  }
 },
 "nbformat": 4,
 "nbformat_minor": 2
}
