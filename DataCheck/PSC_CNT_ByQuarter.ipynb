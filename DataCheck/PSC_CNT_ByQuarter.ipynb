{
 "cells": [
  {
   "cell_type": "code",
   "execution_count": 40,
   "metadata": {},
   "outputs": [],
   "source": [
    "import pandas as pd\n",
    "import collections\n",
    "import heapq\n",
    "import numpy as np\n",
    "import matplotlib.pyplot as plt"
   ]
  },
  {
   "cell_type": "code",
   "execution_count": 3,
   "metadata": {},
   "outputs": [],
   "source": [
    "# From SageMaker local\n",
    "pathQ1 = 'data/GMU_Procurement_Data_FY20Q1_Clean2.csv'\n",
    "pathQ2 = 'data/GMU_Procurement_Data_FY20Q2_Clean2.csv'\n",
    "pathQ3 = 'data/GMU_Procurement_Data_FY20Q3_Clean.csv'\n",
    "pathQ4 = 'data/GMU_Procurement_Data_FY20Q4_2_Clean2.csv'"
   ]
  },
  {
   "cell_type": "code",
   "execution_count": 4,
   "metadata": {},
   "outputs": [
    {
     "name": "stderr",
     "output_type": "stream",
     "text": [
      "/home/ec2-user/anaconda3/envs/python3/lib/python3.6/site-packages/IPython/core/interactiveshell.py:3063: DtypeWarning: Columns (13) have mixed types.Specify dtype option on import or set low_memory=False.\n",
      "  interactivity=interactivity, compiler=compiler, result=result)\n",
      "/home/ec2-user/anaconda3/envs/python3/lib/python3.6/site-packages/IPython/core/interactiveshell.py:3063: DtypeWarning: Columns (12) have mixed types.Specify dtype option on import or set low_memory=False.\n",
      "  interactivity=interactivity, compiler=compiler, result=result)\n"
     ]
    }
   ],
   "source": [
    "dfQ1 = pd.read_csv(pathQ1)\n",
    "dfQ2 = pd.read_csv(pathQ2)\n",
    "dfQ3 = pd.read_csv(pathQ3)\n",
    "dfQ4 = pd.read_csv(pathQ4)"
   ]
  },
  {
   "cell_type": "code",
   "execution_count": 26,
   "metadata": {},
   "outputs": [],
   "source": [
    "Q1_PSC_cnt = dfQ1.groupby('PSC_CODE').size().to_dict()\n",
    "Q2_PSC_cnt = dfQ2.groupby('PSC_CODE').size().to_dict()\n",
    "Q3_PSC_cnt = dfQ3.groupby('PSC_CODE').size().to_dict()\n",
    "Q4_PSC_cnt = dfQ4.groupby('PSC_CODE').size().to_dict()"
   ]
  },
  {
   "cell_type": "code",
   "execution_count": 28,
   "metadata": {},
   "outputs": [],
   "source": [
    "## get if there is any unique PSC for certain quarter\n",
    "uniqueQ1 = []\n",
    "uniqueQ2 = []\n",
    "uniqueQ3 = []\n",
    "uniqueQ4 = []"
   ]
  },
  {
   "cell_type": "code",
   "execution_count": 87,
   "metadata": {
    "scrolled": true
   },
   "outputs": [],
   "source": [
    "for key, value in Q1_PSC_cnt.items():\n",
    "    if key not in Q2_PSC_cnt:\n",
    "        if key not in Q3_PSC_cnt:\n",
    "            if key not in Q4_PSC_cnt:\n",
    "                uniqueQ1.append(key)\n",
    "\n",
    "for key, value in Q2_PSC_cnt.items():\n",
    "    if key not in Q1_PSC_cnt:\n",
    "        if key not in Q3_PSC_cnt:\n",
    "            if key not in Q4_PSC_cnt:\n",
    "                uniqueQ2.append(key)\n",
    "                \n",
    "for key, value in Q3_PSC_cnt.items():\n",
    "    if key not in Q2_PSC_cnt:\n",
    "        if key not in Q1_PSC_cnt:\n",
    "            if key not in Q4_PSC_cnt:\n",
    "                uniqueQ3.append(key)\n",
    "                \n",
    "for key, value in Q4_PSC_cnt.items():\n",
    "    if key not in Q2_PSC_cnt:\n",
    "        if key not in Q3_PSC_cnt:\n",
    "            if key not in Q1_PSC_cnt:\n",
    "                uniqueQ4.append(key)\n"
   ]
  },
  {
   "cell_type": "code",
   "execution_count": 88,
   "metadata": {},
   "outputs": [],
   "source": [
    "dictUNQ_Q1 = {}\n",
    "dictUNQ_Q2 = {}\n",
    "dictUNQ_Q3 = {}\n",
    "dictUNQ_Q4 = {}\n"
   ]
  },
  {
   "cell_type": "code",
   "execution_count": 90,
   "metadata": {
    "scrolled": true
   },
   "outputs": [
    {
     "data": {
      "text/plain": [
       "[('AS21', 86),\n",
       " ('AK14', 36),\n",
       " ('AD23', 21),\n",
       " ('J010', 21),\n",
       " ('Q527', 16),\n",
       " ('N024', 12),\n",
       " ('K065', 10),\n",
       " ('J032', 8),\n",
       " ('9650', 6),\n",
       " ('L010', 6),\n",
       " ('H918', 4),\n",
       " ('K085', 4),\n",
       " ('8950', 3),\n",
       " ('X1BD', 3),\n",
       " ('1020', 2),\n",
       " ('H219', 2),\n",
       " ('H978', 2),\n",
       " ('K077', 2),\n",
       " ('K078', 2),\n",
       " ('K093', 2),\n",
       " ('Q505', 2),\n",
       " ('Q524', 2),\n",
       " ('W043', 2),\n",
       " ('Y239', 2),\n",
       " ('H151', 1),\n",
       " ('H910', 1),\n",
       " ('Q515', 1),\n",
       " ('Q516', 1)]"
      ]
     },
     "execution_count": 90,
     "metadata": {},
     "output_type": "execute_result"
    }
   ],
   "source": [
    "for a in uniqueQ1:\n",
    "    dictUNQ_Q1[a] = Q1_PSC_cnt[a]\n",
    "dictUNQ_Q1 = sorted(dictUNQ_Q1.items(), key=lambda x: x[1], reverse=True)\n",
    "dictUNQ_Q1"
   ]
  },
  {
   "cell_type": "code",
   "execution_count": 92,
   "metadata": {
    "scrolled": true
   },
   "outputs": [
    {
     "data": {
      "text/plain": [
       "[('H155', 52),\n",
       " ('W095', 32),\n",
       " ('3611', 12),\n",
       " ('1376', 8),\n",
       " ('Y1DZ', 6),\n",
       " ('8905', 5),\n",
       " ('1990', 4),\n",
       " ('H130', 4),\n",
       " ('Q504', 4),\n",
       " ('Z169', 4),\n",
       " ('H231', 3),\n",
       " ('H310', 3),\n",
       " ('L078', 3),\n",
       " ('P300', 3),\n",
       " ('1250', 2),\n",
       " ('H137', 2),\n",
       " ('H213', 2),\n",
       " ('H316', 2),\n",
       " ('H354', 2),\n",
       " ('H369', 2),\n",
       " ('L018', 2),\n",
       " ('L054', 2),\n",
       " ('N016', 2),\n",
       " ('R419', 2),\n",
       " ('W087', 2),\n",
       " ('Z1KC', 2),\n",
       " ('1080', 1),\n",
       " ('7642', 1),\n",
       " ('H154', 1),\n",
       " ('H948', 1),\n",
       " ('K066', 1),\n",
       " ('Q513', 1),\n",
       " ('Q521', 1),\n",
       " ('R199', 1),\n",
       " ('R709', 1),\n",
       " ('W047', 1),\n",
       " ('Z2DB', 1),\n",
       " ('Z2NA', 1)]"
      ]
     },
     "execution_count": 92,
     "metadata": {},
     "output_type": "execute_result"
    }
   ],
   "source": [
    "for a in uniqueQ2:\n",
    "    dictUNQ_Q2[a] = Q2_PSC_cnt[a]\n",
    "dictUNQ_Q2 = sorted(dictUNQ_Q2.items(), key=lambda x: x[1], reverse=True)\n",
    "dictUNQ_Q2"
   ]
  },
  {
   "cell_type": "code",
   "execution_count": 93,
   "metadata": {},
   "outputs": [
    {
     "data": {
      "text/plain": [
       "[('M179', 339),\n",
       " ('Y1NA', 39),\n",
       " ('W026', 12),\n",
       " ('F015', 10),\n",
       " ('H355', 9),\n",
       " ('L017', 9),\n",
       " ('AD97', 5),\n",
       " ('1370', 4),\n",
       " ('AT95', 3),\n",
       " ('AZ13', 3),\n",
       " ('H315', 3),\n",
       " ('Q508', 3),\n",
       " ('1930', 2),\n",
       " ('1935', 2),\n",
       " ('3690', 1),\n",
       " ('C1NC', 1),\n",
       " ('N085', 1)]"
      ]
     },
     "execution_count": 93,
     "metadata": {},
     "output_type": "execute_result"
    }
   ],
   "source": [
    "for a in uniqueQ3:\n",
    "    dictUNQ_Q3[a] = Q3_PSC_cnt[a]\n",
    "dictUNQ_Q3 = sorted(dictUNQ_Q3.items(), key=lambda x: x[1], reverse=True)\n",
    "dictUNQ_Q3"
   ]
  },
  {
   "cell_type": "code",
   "execution_count": 94,
   "metadata": {
    "scrolled": true
   },
   "outputs": [
    {
     "data": {
      "text/plain": [
       "[('STND', 39499),\n",
       " ('AK11', 132),\n",
       " ('Z1PC', 55),\n",
       " ('X174', 28),\n",
       " ('K060', 24),\n",
       " ('Y1LZ', 21),\n",
       " ('6010', 20),\n",
       " ('AB96', 20),\n",
       " ('K051', 19),\n",
       " ('5811', 14),\n",
       " ('AC65', 10),\n",
       " ('T014', 6),\n",
       " ('AN91', 5),\n",
       " ('K069', 4),\n",
       " ('L087', 4),\n",
       " ('P999', 4),\n",
       " ('3815', 3),\n",
       " ('AJ43', 3),\n",
       " ('1270', 2),\n",
       " ('2915', 2),\n",
       " ('C1PD', 2),\n",
       " ('H193', 2),\n",
       " ('L051', 2),\n",
       " ('M1ND', 2),\n",
       " ('Y1FF', 2),\n",
       " ('1630', 1),\n",
       " ('1915', 1),\n",
       " ('3436', 1),\n",
       " ('H161', 1),\n",
       " ('H387', 1),\n",
       " ('K019', 1),\n",
       " ('L012', 1),\n",
       " ('Q523', 1),\n",
       " ('X1GA', 1)]"
      ]
     },
     "execution_count": 94,
     "metadata": {},
     "output_type": "execute_result"
    }
   ],
   "source": [
    "for a in uniqueQ4:\n",
    "    dictUNQ_Q4[a] = Q4_PSC_cnt[a]\n",
    "dictUNQ_Q4 = sorted(dictUNQ_Q4.items(), key=lambda x: x[1], reverse=True)\n",
    "dictUNQ_Q4"
   ]
  },
  {
   "cell_type": "code",
   "execution_count": 52,
   "metadata": {},
   "outputs": [],
   "source": [
    "## get if there is high value PSC for certain quarter\n",
    "Q1PSC_Top10_A = dict()\n",
    "Q2PSC_Top10_A = dict()\n",
    "Q3PSC_Top10_A = dict()\n",
    "Q4PSC_Top10_A = dict()"
   ]
  },
  {
   "cell_type": "code",
   "execution_count": 43,
   "metadata": {},
   "outputs": [],
   "source": [
    "Q1PSC_sorted_dict = sorted(Q1_PSC_cnt.items(), key=lambda x: x[1], reverse=True)\n",
    "Q2PSC_sorted_dict = sorted(Q2_PSC_cnt.items(), key=lambda x: x[1], reverse=True)\n",
    "Q3PSC_sorted_dict = sorted(Q3_PSC_cnt.items(), key=lambda x: x[1], reverse=True)\n",
    "Q4PSC_sorted_dict = sorted(Q4_PSC_cnt.items(), key=lambda x: x[1], reverse=True)"
   ]
  },
  {
   "cell_type": "code",
   "execution_count": 59,
   "metadata": {},
   "outputs": [],
   "source": [
    "Q1PSC_Top10_D = dict(Q1PSC_sorted_dict[:10])\n",
    "Q2PSC_Top10_D = dict(Q2PSC_sorted_dict[:10])\n",
    "Q3PSC_Top10_D = dict(Q3PSC_sorted_dict[:10])\n",
    "Q4PSC_Top10_D = dict(Q4PSC_sorted_dict[:10])"
   ]
  },
  {
   "cell_type": "code",
   "execution_count": 81,
   "metadata": {},
   "outputs": [
    {
     "data": {
      "text/plain": [
       "<BarContainer object of 10 artists>"
      ]
     },
     "execution_count": 81,
     "metadata": {},
     "output_type": "execute_result"
    },
    {
     "data": {
      "image/png": "[encoded data removed]",
      "text/plain": [
       "<Figure size 432x288 with 1 Axes>"
      ]
     },
     "metadata": {
      "needs_background": "light"
     },
     "output_type": "display_data"
    }
   ],
   "source": [
    "plt.bar(Q1PSC_Top10_D.keys(), Q1PSC_Top10_D.values(), color='b')"
   ]
  },
  {
   "cell_type": "code",
   "execution_count": 86,
   "metadata": {},
   "outputs": [
    {
     "data": {
      "text/plain": [
       "<BarContainer object of 10 artists>"
      ]
     },
     "execution_count": 86,
     "metadata": {},
     "output_type": "execute_result"
    },
    {
     "data": {
      "image/png": "[encoded data removed]",
      "text/plain": [
       "<Figure size 432x288 with 1 Axes>"
      ]
     },
     "metadata": {
      "needs_background": "light"
     },
     "output_type": "display_data"
    }
   ],
   "source": [
    "plt.bar(Q2PSC_Top10_D.keys(), Q2PSC_Top10_D.values(), color='orange')"
   ]
  },
  {
   "cell_type": "code",
   "execution_count": 84,
   "metadata": {},
   "outputs": [
    {
     "data": {
      "text/plain": [
       "<BarContainer object of 10 artists>"
      ]
     },
     "execution_count": 84,
     "metadata": {},
     "output_type": "execute_result"
    },
    {
     "data": {
      "image/png": "[encoded data removed]",
      "text/plain": [
       "<Figure size 432x288 with 1 Axes>"
      ]
     },
     "metadata": {
      "needs_background": "light"
     },
     "output_type": "display_data"
    }
   ],
   "source": [
    "plt.bar(Q3PSC_Top10_D.keys(), Q3PSC_Top10_D.values(), color='r')"
   ]
  },
  {
   "cell_type": "code",
   "execution_count": 83,
   "metadata": {},
   "outputs": [
    {
     "data": {
      "text/plain": [
       "<BarContainer object of 10 artists>"
      ]
     },
     "execution_count": 83,
     "metadata": {},
     "output_type": "execute_result"
    },
    {
     "data": {
      "image/png": "[encoded data removed]",
      "text/plain": [
       "<Figure size 432x288 with 1 Axes>"
      ]
     },
     "metadata": {
      "needs_background": "light"
     },
     "output_type": "display_data"
    }
   ],
   "source": [
    "plt.bar(Q4PSC_Top10_D.keys(), Q4PSC_Top10_D.values(), color='g')"
   ]
  },
  {
   "cell_type": "code",
   "execution_count": null,
   "metadata": {},
   "outputs": [],
   "source": []
  }
 ],
 "metadata": {
  "kernelspec": {
   "display_name": "conda_python3",
   "language": "python",
   "name": "conda_python3"
  },
  "language_info": {
   "codemirror_mode": {
    "name": "ipython",
    "version": 3
   },
   "file_extension": ".py",
   "mimetype": "text/x-python",
   "name": "python",
   "nbconvert_exporter": "python",
   "pygments_lexer": "ipython3",
   "version": "3.6.10"
  }
 },
 "nbformat": 4,
 "nbformat_minor": 4
}
