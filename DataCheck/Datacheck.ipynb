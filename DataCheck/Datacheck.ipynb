{
 "cells": [
  {
   "cell_type": "code",
   "execution_count": 1,
   "metadata": {},
   "outputs": [],
   "source": [
    "import pandas as pd"
   ]
  },
  {
   "cell_type": "code",
   "execution_count": 2,
   "metadata": {},
   "outputs": [
    {
     "data": {
      "text/html": [
       "<div>\n",
       "<style scoped>\n",
       "    .dataframe tbody tr th:only-of-type {\n",
       "        vertical-align: middle;\n",
       "    }\n",
       "\n",
       "    .dataframe tbody tr th {\n",
       "        vertical-align: top;\n",
       "    }\n",
       "\n",
       "    .dataframe thead th {\n",
       "        text-align: right;\n",
       "    }\n",
       "</style>\n",
       "<table border=\"1\" class=\"dataframe\">\n",
       "  <thead>\n",
       "    <tr style=\"text-align: right;\">\n",
       "      <th></th>\n",
       "      <th>PSC Code (Description)</th>\n",
       "      <th>4-Digit PSC</th>\n",
       "      <th>Level 1</th>\n",
       "      <th>Level 1 Category</th>\n",
       "      <th>Level 2</th>\n",
       "      <th>Level 2 Category</th>\n",
       "    </tr>\n",
       "  </thead>\n",
       "  <tbody>\n",
       "    <tr>\n",
       "      <th>0</th>\n",
       "      <td>AA11 (R&amp;D- AGRICULTURE: INSECT AND DISEASE CON...</td>\n",
       "      <td>AA11</td>\n",
       "      <td>17</td>\n",
       "      <td>Research and Development</td>\n",
       "      <td>17.3</td>\n",
       "      <td>Technology Base</td>\n",
       "    </tr>\n",
       "    <tr>\n",
       "      <th>1</th>\n",
       "      <td>AA12 (R&amp;D- AGRICULTURE: INSECT AND DISEASE CON...</td>\n",
       "      <td>AA12</td>\n",
       "      <td>17</td>\n",
       "      <td>Research and Development</td>\n",
       "      <td>17.3</td>\n",
       "      <td>Technology Base</td>\n",
       "    </tr>\n",
       "    <tr>\n",
       "      <th>2</th>\n",
       "      <td>AA13 (R&amp;D- AGRICULTURE: INSECT AND DISEASE CON...</td>\n",
       "      <td>AA13</td>\n",
       "      <td>17</td>\n",
       "      <td>Research and Development</td>\n",
       "      <td>17.1</td>\n",
       "      <td>Systems Development</td>\n",
       "    </tr>\n",
       "    <tr>\n",
       "      <th>3</th>\n",
       "      <td>AA14 (R&amp;D- AGRICULTURE: INSECT AND DISEASE CON...</td>\n",
       "      <td>AA14</td>\n",
       "      <td>17</td>\n",
       "      <td>Research and Development</td>\n",
       "      <td>17.1</td>\n",
       "      <td>Systems Development</td>\n",
       "    </tr>\n",
       "    <tr>\n",
       "      <th>4</th>\n",
       "      <td>AA15 R&amp;D- AGRICULTURE: INSECT AND DISEASE CONT...</td>\n",
       "      <td>AA15</td>\n",
       "      <td>17</td>\n",
       "      <td>Research and Development</td>\n",
       "      <td>17.2</td>\n",
       "      <td>Operational Systems Development</td>\n",
       "    </tr>\n",
       "  </tbody>\n",
       "</table>\n",
       "</div>"
      ],
      "text/plain": [
       "                              PSC Code (Description) 4-Digit PSC  Level 1  \\\n",
       "0  AA11 (R&D- AGRICULTURE: INSECT AND DISEASE CON...        AA11       17   \n",
       "1  AA12 (R&D- AGRICULTURE: INSECT AND DISEASE CON...        AA12       17   \n",
       "2  AA13 (R&D- AGRICULTURE: INSECT AND DISEASE CON...        AA13       17   \n",
       "3  AA14 (R&D- AGRICULTURE: INSECT AND DISEASE CON...        AA14       17   \n",
       "4  AA15 R&D- AGRICULTURE: INSECT AND DISEASE CONT...        AA15       17   \n",
       "\n",
       "           Level 1 Category  Level 2                 Level 2 Category  \n",
       "0  Research and Development     17.3                  Technology Base  \n",
       "1  Research and Development     17.3                  Technology Base  \n",
       "2  Research and Development     17.1              Systems Development  \n",
       "3  Research and Development     17.1              Systems Development  \n",
       "4  Research and Development     17.2  Operational Systems Development  "
      ]
     },
     "execution_count": 2,
     "metadata": {},
     "output_type": "execute_result"
    }
   ],
   "source": [
    "rawdf = pd.read_excel('PSC_Category_Alignment_April_2020.xlsx',header=3)\n",
    "rawdf.head()"
   ]
  },
  {
   "cell_type": "code",
   "execution_count": 3,
   "metadata": {},
   "outputs": [
    {
     "data": {
      "text/plain": [
       "PSC Code (Description)    0\n",
       "4-Digit PSC               0\n",
       "Level 1                   0\n",
       "Level 1 Category          0\n",
       "Level 2                   7\n",
       "Level 2 Category          0\n",
       "dtype: int64"
      ]
     },
     "execution_count": 3,
     "metadata": {},
     "output_type": "execute_result"
    }
   ],
   "source": [
    "rawdf.isnull().sum()"
   ]
  },
  {
   "cell_type": "code",
   "execution_count": 4,
   "metadata": {},
   "outputs": [
    {
     "data": {
      "text/html": [
       "<div>\n",
       "<style scoped>\n",
       "    .dataframe tbody tr th:only-of-type {\n",
       "        vertical-align: middle;\n",
       "    }\n",
       "\n",
       "    .dataframe tbody tr th {\n",
       "        vertical-align: top;\n",
       "    }\n",
       "\n",
       "    .dataframe thead th {\n",
       "        text-align: right;\n",
       "    }\n",
       "</style>\n",
       "<table border=\"1\" class=\"dataframe\">\n",
       "  <thead>\n",
       "    <tr style=\"text-align: right;\">\n",
       "      <th></th>\n",
       "      <th>Level 1</th>\n",
       "      <th>Level 2</th>\n",
       "    </tr>\n",
       "  </thead>\n",
       "  <tbody>\n",
       "    <tr>\n",
       "      <th>count</th>\n",
       "      <td>2912.000000</td>\n",
       "      <td>2912.000000</td>\n",
       "    </tr>\n",
       "    <tr>\n",
       "      <th>mean</th>\n",
       "      <td>10.242445</td>\n",
       "      <td>10.549073</td>\n",
       "    </tr>\n",
       "    <tr>\n",
       "      <th>std</th>\n",
       "      <td>6.414376</td>\n",
       "      <td>6.395239</td>\n",
       "    </tr>\n",
       "    <tr>\n",
       "      <th>min</th>\n",
       "      <td>1.000000</td>\n",
       "      <td>1.100000</td>\n",
       "    </tr>\n",
       "    <tr>\n",
       "      <th>25%</th>\n",
       "      <td>4.000000</td>\n",
       "      <td>4.400000</td>\n",
       "    </tr>\n",
       "    <tr>\n",
       "      <th>50%</th>\n",
       "      <td>10.000000</td>\n",
       "      <td>10.200000</td>\n",
       "    </tr>\n",
       "    <tr>\n",
       "      <th>75%</th>\n",
       "      <td>17.000000</td>\n",
       "      <td>17.300000</td>\n",
       "    </tr>\n",
       "    <tr>\n",
       "      <th>max</th>\n",
       "      <td>19.000000</td>\n",
       "      <td>19.200000</td>\n",
       "    </tr>\n",
       "  </tbody>\n",
       "</table>\n",
       "</div>"
      ],
      "text/plain": [
       "           Level 1      Level 2\n",
       "count  2912.000000  2912.000000\n",
       "mean     10.242445    10.549073\n",
       "std       6.414376     6.395239\n",
       "min       1.000000     1.100000\n",
       "25%       4.000000     4.400000\n",
       "50%      10.000000    10.200000\n",
       "75%      17.000000    17.300000\n",
       "max      19.000000    19.200000"
      ]
     },
     "execution_count": 4,
     "metadata": {},
     "output_type": "execute_result"
    }
   ],
   "source": [
    "# couple level 2 is missing.\n",
    "# drop at this moment\n",
    "df = rawdf.dropna(axis=0, subset=['Level 2'])\n",
    "df.describe()"
   ]
  },
  {
   "cell_type": "code",
   "execution_count": 83,
   "metadata": {},
   "outputs": [
    {
     "data": {
      "text/plain": [
       "PSC Code (Description)    2912\n",
       "Level 1                   2912\n",
       "Level 1 Category          2912\n",
       "Level 2                   2912\n",
       "Level 2 Category          2912\n",
       "dtype: int64"
      ]
     },
     "execution_count": 83,
     "metadata": {},
     "output_type": "execute_result"
    }
   ],
   "source": [
    "df.groupby('4-Digit PSC').count().sum()\n",
    "# same as row vlaue, so PSC is unique"
   ]
  },
  {
   "cell_type": "code",
   "execution_count": 5,
   "metadata": {},
   "outputs": [],
   "source": [
    "#iterate df by col\n",
    "def iteratedf(df, col, hashset):\n",
    "    for i, row in df.iterrows():\n",
    "        level = row[col]\n",
    "        hashset.add(level)\n"
   ]
  },
  {
   "cell_type": "code",
   "execution_count": 6,
   "metadata": {},
   "outputs": [
    {
     "name": "stdout",
     "output_type": "stream",
     "text": [
      "19\n"
     ]
    },
    {
     "data": {
      "text/plain": [
       "{1, 2, 3, 4, 5, 6, 7, 8, 9, 10, 11, 12, 13, 14, 15, 16, 17, 18, 19}"
      ]
     },
     "execution_count": 6,
     "metadata": {},
     "output_type": "execute_result"
    }
   ],
   "source": [
    "level1_set = set()\n",
    "iteratedf(df, 2, level1_set)\n",
    "\n",
    "# There are 19 different level_1 \n",
    "print(len(level1_set))\n",
    "level1_set"
   ]
  },
  {
   "cell_type": "code",
   "execution_count": 54,
   "metadata": {},
   "outputs": [
    {
     "name": "stdout",
     "output_type": "stream",
     "text": [
      "There are 19 categories\n"
     ]
    },
    {
     "data": {
      "text/plain": [
       "{1: 'IT',\n",
       " 2: 'Professional Services',\n",
       " 3: 'Security and Protection',\n",
       " 4: 'Facilities & Construction',\n",
       " 5: 'Industrial Products & Services',\n",
       " 6: 'Office Management',\n",
       " 7: 'Transportation and Logistics Services',\n",
       " 8: 'Travel & Lodging',\n",
       " 9: 'Human Capital',\n",
       " 10: 'Medical',\n",
       " 11: 'Aircraft, Ships/Submarines & Land Vehicles',\n",
       " 12: 'Weapons & Ammunition',\n",
       " 13: 'Electronic & Communication Equipment',\n",
       " 14: 'Sustainment S&E',\n",
       " 15: 'Clothing, Textiles & Subsistence S&E',\n",
       " 16: 'Miscellaneous S&E',\n",
       " 17: 'Research and Development',\n",
       " 18: 'Equipment Related Services',\n",
       " 19: 'Electronic & Communication Services'}"
      ]
     },
     "execution_count": 54,
     "metadata": {},
     "output_type": "execute_result"
    }
   ],
   "source": [
    "level_1_dict = {}\n",
    "for i, row in df.iterrows():\n",
    "    if row[2] not in level_1_dict:\n",
    "        level_1_dict[int(row[2])] = row[3].strip()\n",
    "        \n",
    "level_1_dict = {k: v for k, v in sorted(level_1_dict.items(), key=lambda item: item[0])}\n",
    "\n",
    "\n",
    "print('There are ' + str(len(level_1_dict)) + ' categories')\n",
    "level_1_dict"
   ]
  },
  {
   "cell_type": "code",
   "execution_count": 79,
   "metadata": {},
   "outputs": [
    {
     "name": "stdout",
     "output_type": "stream",
     "text": [
      "subtitle counts = 85\n",
      "<IT> has subtitle of: {'IT Consulting', 'IT Consulting ', 'IT Hardware', 'Telecommunications', 'IT Security', 'IT Outsourcing', 'IT Software'}\n",
      "<Professional Services> has subtitle of: {'Legal services', 'Financial Services', 'Trade Policy and Services', 'Public Relations and Professional Communications Services', 'Business administration services', 'Real Estate Services', 'Technical and Engineering Services (non-IT)', 'Marketing and Distribution', 'Management Advisory Services', 'Social Services'}\n",
      "<Security and Protection> has subtitle of: {'Security Animals & Related Svcs', 'Security Services', 'Security Systems'}\n",
      "<Facilities & Construction> has subtitle of: {'Facility Related Materials', 'Facilities Purchase & Lease', 'Construction Related Services', 'Facility Related Services', 'Construction Related Materials'}\n",
      "<Industrial Products & Services> has subtitle of: {'Fire/Rescue/Safety/Environmental Protection Equipment', 'Hardware & Tools', 'Basic Materials', 'Test & Measurement Supplies', 'Industrial Products Install / Maintenance / Repair', 'Machinery & Components', 'Oils, Lubricants, and Waxes'}\n",
      "<Office Management> has subtitle of: {'Furniture', 'Office Management Products', 'Office Management Services'}\n",
      "<Transportation and Logistics Services> has subtitle of: {'Transportation Equipment', 'Fuels ', 'Logistics Support Services', 'Package Delivery & Packaging', 'Motor Vehicles', 'Transportation of Things'}\n",
      "<Travel & Lodging> has subtitle of: {'Travel Agent & Misc Svcs', 'Passenger Travel', 'Lodging'}\n",
      "<Human Capital> has subtitle of: {'Human Resources Services', 'Vocational Training', 'Specialized educational services'}\n",
      "<Medical> has subtitle of: {'Healthcare Services', 'Medical Equipment and Accessories and Supplies', 'Drugs and Pharmaceutical Products'}\n",
      "<Aircraft, Ships/Submarines & Land Vehicles> has subtitle of: {'Land Combat Vehicles', 'Ships & Submarines', 'Aircraft'}\n",
      "<Weapons & Ammunition> has subtitle of: {'Guns', 'Weapons', 'Fire Control', 'Guided Missiles', 'Ammunition & Explosives', 'Nuclear Ordnance'}\n",
      "<Electronic & Communication Equipment> has subtitle of: {'Night Vision Eq', 'Communication Equipment', 'Electrical & Electronics Equipment', 'Detection & Coherent Radiation Eq'}\n",
      "<Sustainment S&E> has subtitle of: {'Engines, Components & Spt Eq', 'Materials', 'Support Ships & Small Craft', 'Training Aids and Devices', 'Supply Parts', 'Drones'}\n",
      "<Clothing, Textiles & Subsistence S&E> has subtitle of: {'Textiles, Clothing & Equipage', 'Subsistence'}\n",
      "<Miscellaneous S&E> has subtitle of: {'S&E Not Classifed Elsewhere'}\n",
      "<Research and Development> has subtitle of: {'Operational Systems Development', 'Technology Base', 'Commericalization', 'Systems Development'}\n",
      "<Equipment Related Services> has subtitle of: {'Salvage Services', 'Maintenance, Repair and Overhaul', 'Installation of Equipment', 'Quality Control', 'Equipment Modification', 'Purchases & Leases', 'Technical Representative Services'}\n",
      "<Electronic & Communication Services> has subtitle of: {'Equipment Leases', 'Equipment Maintenance'}\n"
     ]
    }
   ],
   "source": [
    "level_2_dict = {}\n",
    "cases = set()\n",
    "for i, row in df.iterrows():\n",
    "    idx = int(row[4])\n",
    "    cata = row[5]\n",
    "    if idx in level_2_dict:\n",
    "        if cata.lower() not in cases:\n",
    "            tmp = level_2_dict[idx]\n",
    "            tmp.add(cata)\n",
    "            level_2_dict[idx] = tmp\n",
    "            cases.add(cata.lower())\n",
    "    else:\n",
    "        tmp = set()\n",
    "        tmp.add(cata)\n",
    "        level_2_dict[idx] = tmp\n",
    "        cases.add(cata.lower())\n",
    "level_2_dict = {k: v for k, v in sorted(level_2_dict.items(), key=lambda item: item[0])}\n",
    "\n",
    "print('subtitle counts = ' + str(len(cases)))\n",
    "for k, v in level_2_dict.items():\n",
    "    tmpset = v\n",
    "    print('<' + str(level_1_dict[k]) + '> has subtitle of: ' + str(v))\n"
   ]
  },
  {
   "cell_type": "markdown",
   "metadata": {},
   "source": [
    "## PSC Code (Description)\n",
    "An unique 4-digit PSC code + rescriptions\n",
    "\n",
    "## 4-Digit PSC\n",
    "An unique 4-digit PSC  re=[[A-Z1-9]{0:4}]\n",
    "\n",
    "### Catagories has problem with upper and lover case problem. \n",
    "such as \"Financial Services\" and \"Financial services\"\n",
    "\n",
    "## Level 1 and Level 1 Catagory\n",
    "19 different catagories, each level 1 value has its own catagory name"
   ]
  },
  {
   "cell_type": "code",
   "execution_count": 86,
   "metadata": {},
   "outputs": [
    {
     "data": {
      "text/plain": [
       "{1: 'IT',\n",
       " 2: 'Professional Services',\n",
       " 3: 'Security and Protection',\n",
       " 4: 'Facilities & Construction',\n",
       " 5: 'Industrial Products & Services',\n",
       " 6: 'Office Management',\n",
       " 7: 'Transportation and Logistics Services',\n",
       " 8: 'Travel & Lodging',\n",
       " 9: 'Human Capital',\n",
       " 10: 'Medical',\n",
       " 11: 'Aircraft, Ships/Submarines & Land Vehicles',\n",
       " 12: 'Weapons & Ammunition',\n",
       " 13: 'Electronic & Communication Equipment',\n",
       " 14: 'Sustainment S&E',\n",
       " 15: 'Clothing, Textiles & Subsistence S&E',\n",
       " 16: 'Miscellaneous S&E',\n",
       " 17: 'Research and Development',\n",
       " 18: 'Equipment Related Services',\n",
       " 19: 'Electronic & Communication Services'}"
      ]
     },
     "execution_count": 86,
     "metadata": {},
     "output_type": "execute_result"
    }
   ],
   "source": [
    "level_1_dict"
   ]
  },
  {
   "cell_type": "markdown",
   "metadata": {},
   "source": [
    "## Level 2 and Level 2 Catagory\n",
    "85 different catagories, each level 1 value has its own catagory name"
   ]
  },
  {
   "cell_type": "code",
   "execution_count": 85,
   "metadata": {},
   "outputs": [
    {
     "name": "stdout",
     "output_type": "stream",
     "text": [
      "subtitle counts = 85\n",
      "<IT> has subtitle of: {'IT Consulting', 'IT Consulting ', 'IT Hardware', 'Telecommunications', 'IT Security', 'IT Outsourcing', 'IT Software'}\n",
      "<Professional Services> has subtitle of: {'Legal services', 'Financial Services', 'Trade Policy and Services', 'Public Relations and Professional Communications Services', 'Business administration services', 'Real Estate Services', 'Technical and Engineering Services (non-IT)', 'Marketing and Distribution', 'Management Advisory Services', 'Social Services'}\n",
      "<Security and Protection> has subtitle of: {'Security Animals & Related Svcs', 'Security Services', 'Security Systems'}\n",
      "<Facilities & Construction> has subtitle of: {'Facility Related Materials', 'Facilities Purchase & Lease', 'Construction Related Services', 'Facility Related Services', 'Construction Related Materials'}\n",
      "<Industrial Products & Services> has subtitle of: {'Fire/Rescue/Safety/Environmental Protection Equipment', 'Hardware & Tools', 'Basic Materials', 'Test & Measurement Supplies', 'Industrial Products Install / Maintenance / Repair', 'Machinery & Components', 'Oils, Lubricants, and Waxes'}\n",
      "<Office Management> has subtitle of: {'Furniture', 'Office Management Products', 'Office Management Services'}\n",
      "<Transportation and Logistics Services> has subtitle of: {'Transportation Equipment', 'Fuels ', 'Logistics Support Services', 'Package Delivery & Packaging', 'Motor Vehicles', 'Transportation of Things'}\n",
      "<Travel & Lodging> has subtitle of: {'Travel Agent & Misc Svcs', 'Passenger Travel', 'Lodging'}\n",
      "<Human Capital> has subtitle of: {'Human Resources Services', 'Vocational Training', 'Specialized educational services'}\n",
      "<Medical> has subtitle of: {'Healthcare Services', 'Medical Equipment and Accessories and Supplies', 'Drugs and Pharmaceutical Products'}\n",
      "<Aircraft, Ships/Submarines & Land Vehicles> has subtitle of: {'Land Combat Vehicles', 'Ships & Submarines', 'Aircraft'}\n",
      "<Weapons & Ammunition> has subtitle of: {'Guns', 'Weapons', 'Fire Control', 'Guided Missiles', 'Ammunition & Explosives', 'Nuclear Ordnance'}\n",
      "<Electronic & Communication Equipment> has subtitle of: {'Night Vision Eq', 'Communication Equipment', 'Electrical & Electronics Equipment', 'Detection & Coherent Radiation Eq'}\n",
      "<Sustainment S&E> has subtitle of: {'Engines, Components & Spt Eq', 'Materials', 'Support Ships & Small Craft', 'Training Aids and Devices', 'Supply Parts', 'Drones'}\n",
      "<Clothing, Textiles & Subsistence S&E> has subtitle of: {'Textiles, Clothing & Equipage', 'Subsistence'}\n",
      "<Miscellaneous S&E> has subtitle of: {'S&E Not Classifed Elsewhere'}\n",
      "<Research and Development> has subtitle of: {'Operational Systems Development', 'Technology Base', 'Commericalization', 'Systems Development'}\n",
      "<Equipment Related Services> has subtitle of: {'Salvage Services', 'Maintenance, Repair and Overhaul', 'Installation of Equipment', 'Quality Control', 'Equipment Modification', 'Purchases & Leases', 'Technical Representative Services'}\n",
      "<Electronic & Communication Services> has subtitle of: {'Equipment Leases', 'Equipment Maintenance'}\n"
     ]
    }
   ],
   "source": [
    "print('subtitle counts = ' + str(len(cases)))\n",
    "for k, v in level_2_dict.items():\n",
    "    tmpset = v\n",
    "    print('<' + str(level_1_dict[k]) + '> has subtitle of: ' + str(v))"
   ]
  },
  {
   "cell_type": "code",
   "execution_count": null,
   "metadata": {},
   "outputs": [],
   "source": []
  }
 ],
 "metadata": {
  "kernelspec": {
   "display_name": "Python 3",
   "language": "python",
   "name": "python3"
  },
  "language_info": {
   "codemirror_mode": {
    "name": "ipython",
    "version": 3
   },
   "file_extension": ".py",
   "mimetype": "text/x-python",
   "name": "python",
   "nbconvert_exporter": "python",
   "pygments_lexer": "ipython3",
   "version": "3.7.4"
  }
 },
 "nbformat": 4,
 "nbformat_minor": 4
}
